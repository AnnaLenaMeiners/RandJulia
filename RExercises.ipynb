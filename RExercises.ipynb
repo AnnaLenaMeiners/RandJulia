{
 "cells": [
  {
   "cell_type": "markdown",
   "id": "08abbbf4-6475-4db6-9036-1e55e71c98f6",
   "metadata": {},
   "source": [
    "![Logo](Technikklein.png)\n",
    "\n",
    "# Task 4: R and Julia Data Science (Part 1: R)\n",
    "### Data Science\n",
    "\n",
    "\n",
    "##### Dozent: Prof. Dr. Stefan Edlich\n",
    "##### Medieninformatik\n",
    "##### Hochschule Emden/Leer\n",
    "##### Sommersemester 2021\n",
    "   \n",
    "_____\n"
   ]
  },
  {
   "cell_type": "markdown",
   "id": "92d7cede-f3d4-41f3-9e1f-aa6e5349e750",
   "metadata": {},
   "source": [
    "## Ex. 1: Write a program to guess a number in between 0 and 100!\n",
    "\n",
    "Hence the computer invents the number and the user = you tries to guess it!\n",
    "\n",
    "_Note by author: To make the feedback by the function appear following the user input in the Jupyter Notebook directly, I used `message()` instead of `print()`._"
   ]
  },
  {
   "cell_type": "code",
   "execution_count": 5,
   "id": "50e7fa13-cfe6-4506-a020-0ff638fe89cc",
   "metadata": {},
   "outputs": [
    {
     "name": "stderr",
     "output_type": "stream",
     "text": [
      "I'm thinking of number between 0 and 100. Can you guess it?\n"
     ]
    },
    {
     "name": "stdin",
     "output_type": "stream",
     "text": [
      " 50\n"
     ]
    },
    {
     "name": "stderr",
     "output_type": "stream",
     "text": [
      "Correct!\n"
     ]
    }
   ],
   "source": [
    "guessTheNumber <- function()\n",
    "{\n",
    "    n <- sample(100, 1)\n",
    "    message(\"I'm thinking of number between 0 and 100. Can you guess it?\")\n",
    "    input <- 999\n",
    "    while(input != n)\n",
    "    {\n",
    "        input <- as.numeric(readline())\n",
    "        if(input > n){message(\"Lower!\");next}\n",
    "        if(input < n){message(\"Higher!\");next}\n",
    "    }\n",
    "    message(\"Correct!\")\n",
    "}\n",
    "guessTheNumber()"
   ]
  },
  {
   "cell_type": "code",
   "execution_count": 6,
   "id": "c857ecc9-9199-45a0-aa32-0cc7850ca9ec",
   "metadata": {},
   "outputs": [
    {
     "name": "stderr",
     "output_type": "stream",
     "text": [
      "I'm thinking of number between 0 and 100. Can you guess it?\n"
     ]
    },
    {
     "name": "stdin",
     "output_type": "stream",
     "text": [
      " 50\n"
     ]
    },
    {
     "name": "stderr",
     "output_type": "stream",
     "text": [
      "Higher!\n"
     ]
    },
    {
     "name": "stdin",
     "output_type": "stream",
     "text": [
      " 75\n"
     ]
    },
    {
     "name": "stderr",
     "output_type": "stream",
     "text": [
      "Lower!\n"
     ]
    },
    {
     "name": "stdin",
     "output_type": "stream",
     "text": [
      " 61\n"
     ]
    },
    {
     "name": "stderr",
     "output_type": "stream",
     "text": [
      "Higher!\n"
     ]
    },
    {
     "name": "stdin",
     "output_type": "stream",
     "text": [
      " 67\n"
     ]
    },
    {
     "name": "stderr",
     "output_type": "stream",
     "text": [
      "Higher!\n"
     ]
    },
    {
     "name": "stdin",
     "output_type": "stream",
     "text": [
      " 72\n"
     ]
    },
    {
     "name": "stderr",
     "output_type": "stream",
     "text": [
      "Lower!\n"
     ]
    },
    {
     "name": "stdin",
     "output_type": "stream",
     "text": [
      " 70\n"
     ]
    },
    {
     "name": "stderr",
     "output_type": "stream",
     "text": [
      "Lower!\n"
     ]
    },
    {
     "name": "stdin",
     "output_type": "stream",
     "text": [
      " 69\n"
     ]
    },
    {
     "name": "stderr",
     "output_type": "stream",
     "text": [
      "Lower!\n"
     ]
    },
    {
     "name": "stdin",
     "output_type": "stream",
     "text": [
      " 68\n"
     ]
    },
    {
     "name": "stderr",
     "output_type": "stream",
     "text": [
      "Correct!\n"
     ]
    }
   ],
   "source": [
    "guessTheNumber()"
   ]
  },
  {
   "cell_type": "markdown",
   "id": "747f02c3-8988-47c3-ac1b-acc0059e08f5",
   "metadata": {},
   "source": [
    "_______\n",
    "## Ex. 2: Analyse the esoph dataset.\n",
    "Can you derive some useful statements from it? Use data() to see all available datasets.\n",
    "\n",
    "_Note by author: I checked the datasets first, then did some example statistics on the esoph dataset._"
   ]
  },
  {
   "cell_type": "markdown",
   "id": "7fc3cd07-4be9-4edb-b259-d37c0053dfc2",
   "metadata": {},
   "source": [
    "#### Checking out the datasets first."
   ]
  },
  {
   "cell_type": "code",
   "execution_count": 9,
   "id": "8e4364c1-4334-48cb-b389-f2f8e4cbc08e",
   "metadata": {},
   "outputs": [
    {
     "data": {
      "text/html": [
       "<h3>Data sets</h3>\n",
       "<table>\n",
       "<thead><tr><th scope=col>Package</th><th scope=col>Item</th><th scope=col>Title</th></tr></thead>\n",
       "<tbody>\n",
       "\t<tr><td>datasets                                                       </td><td>AirPassengers                                                  </td><td>Monthly Airline Passenger Numbers 1949-1960                    </td></tr>\n",
       "\t<tr><td>datasets                                                       </td><td>BJsales                                                        </td><td>Sales Data with Leading Indicator                              </td></tr>\n",
       "\t<tr><td>datasets                                                       </td><td>BJsales.lead (BJsales)                                         </td><td>Sales Data with Leading Indicator                              </td></tr>\n",
       "\t<tr><td>datasets                                                       </td><td>BOD                                                            </td><td>Biochemical Oxygen Demand                                      </td></tr>\n",
       "\t<tr><td>datasets                                                       </td><td>CO2                                                            </td><td>Carbon Dioxide Uptake in Grass Plants                          </td></tr>\n",
       "\t<tr><td>datasets                                                       </td><td>ChickWeight                                                    </td><td>Weight versus age of chicks on different diets                 </td></tr>\n",
       "\t<tr><td>datasets                                                       </td><td>DNase                                                          </td><td>Elisa assay of DNase                                           </td></tr>\n",
       "\t<tr><td>datasets                                                       </td><td>EuStockMarkets                                                 </td><td>Daily Closing Prices of Major European Stock Indices, 1991-1998</td></tr>\n",
       "\t<tr><td>datasets                                                       </td><td>Formaldehyde                                                   </td><td>Determination of Formaldehyde                                  </td></tr>\n",
       "\t<tr><td>datasets                                                       </td><td>HairEyeColor                                                   </td><td>Hair and Eye Color of Statistics Students                      </td></tr>\n",
       "\t<tr><td>datasets                                                       </td><td>Harman23.cor                                                   </td><td>Harman Example 2.3                                             </td></tr>\n",
       "\t<tr><td>datasets                                                       </td><td>Harman74.cor                                                   </td><td>Harman Example 7.4                                             </td></tr>\n",
       "\t<tr><td>datasets                                                       </td><td>Indometh                                                       </td><td>Pharmacokinetics of Indomethacin                               </td></tr>\n",
       "\t<tr><td>datasets                                                       </td><td>InsectSprays                                                   </td><td>Effectiveness of Insect Sprays                                 </td></tr>\n",
       "\t<tr><td>datasets                                                                                                   </td><td><span style=white-space:pre-wrap>JohnsonJohnson        </span>                                             </td><td><span style=white-space:pre-wrap>Quarterly Earnings per Johnson &amp; Johnson Share                 </span></td></tr>\n",
       "\t<tr><td>datasets                                                       </td><td>LakeHuron                                                      </td><td>Level of Lake Huron 1875-1972                                  </td></tr>\n",
       "\t<tr><td>datasets                                                       </td><td>LifeCycleSavings                                               </td><td>Intercountry Life-Cycle Savings Data                           </td></tr>\n",
       "\t<tr><td>datasets                                                       </td><td>Loblolly                                                       </td><td>Growth of Loblolly pine trees                                  </td></tr>\n",
       "\t<tr><td>datasets                                                       </td><td>Nile                                                           </td><td>Flow of the River Nile                                         </td></tr>\n",
       "\t<tr><td>datasets                                                       </td><td>Orange                                                         </td><td>Growth of Orange Trees                                         </td></tr>\n",
       "\t<tr><td>datasets                                                       </td><td>OrchardSprays                                                  </td><td>Potency of Orchard Sprays                                      </td></tr>\n",
       "\t<tr><td>datasets                                                       </td><td>PlantGrowth                                                    </td><td>Results from an Experiment on Plant Growth                     </td></tr>\n",
       "\t<tr><td>datasets                                                       </td><td>Puromycin                                                      </td><td>Reaction Velocity of an Enzymatic Reaction                     </td></tr>\n",
       "\t<tr><td>datasets                                                       </td><td>Seatbelts                                                      </td><td>Road Casualties in Great Britain 1969-84                       </td></tr>\n",
       "\t<tr><td>datasets                                                       </td><td>Theoph                                                         </td><td>Pharmacokinetics of Theophylline                               </td></tr>\n",
       "\t<tr><td>datasets                                                       </td><td>Titanic                                                        </td><td>Survival of passengers on the Titanic                          </td></tr>\n",
       "\t<tr><td>datasets                                                       </td><td>ToothGrowth                                                    </td><td>The Effect of Vitamin C on Tooth Growth in Guinea Pigs         </td></tr>\n",
       "\t<tr><td>datasets                                                       </td><td>UCBAdmissions                                                  </td><td>Student Admissions at UC Berkeley                              </td></tr>\n",
       "\t<tr><td>datasets                                                       </td><td>UKDriverDeaths                                                 </td><td>Road Casualties in Great Britain 1969-84                       </td></tr>\n",
       "\t<tr><td>datasets                                                       </td><td>UKgas                                                          </td><td>UK Quarterly Gas Consumption                                   </td></tr>\n",
       "\t<tr><td>datasets                                                       </td><td>USAccDeaths                                                    </td><td>Accidental Deaths in the US 1973-1978                          </td></tr>\n",
       "\t<tr><td>datasets                                                       </td><td>USArrests                                                      </td><td>Violent Crime Rates by US State                                </td></tr>\n",
       "\t<tr><td>datasets                                                       </td><td>USJudgeRatings                                                 </td><td>Lawyers' Ratings of State Judges in the US Superior Court      </td></tr>\n",
       "\t<tr><td>datasets                                                       </td><td>USPersonalExpenditure                                          </td><td>Personal Expenditure Data                                      </td></tr>\n",
       "\t<tr><td>datasets                                                       </td><td>UScitiesD                                                      </td><td>Distances Between European Cities and Between US Cities        </td></tr>\n",
       "\t<tr><td>datasets                                                       </td><td>VADeaths                                                       </td><td>Death Rates in Virginia (1940)                                 </td></tr>\n",
       "\t<tr><td>datasets                                                       </td><td>WWWusage                                                       </td><td>Internet Usage per Minute                                      </td></tr>\n",
       "\t<tr><td>datasets                                                       </td><td>WorldPhones                                                    </td><td>The World's Telephones                                         </td></tr>\n",
       "\t<tr><td>datasets                                                       </td><td>ability.cov                                                    </td><td>Ability and Intelligence Tests                                 </td></tr>\n",
       "\t<tr><td>datasets                                                       </td><td>airmiles                                                       </td><td>Passenger Miles on Commercial US Airlines, 1937-1960           </td></tr>\n",
       "\t<tr><td>datasets                                                       </td><td>airquality                                                     </td><td>New York Air Quality Measurements                              </td></tr>\n",
       "\t<tr><td>datasets                                                       </td><td>anscombe                                                       </td><td>Anscombe's Quartet of 'Identical' Simple Linear Regressions    </td></tr>\n",
       "\t<tr><td>datasets                                                       </td><td>attenu                                                         </td><td>The Joyner-Boore Attenuation Data                              </td></tr>\n",
       "\t<tr><td>datasets                                                       </td><td>attitude                                                       </td><td>The Chatterjee-Price Attitude Data                             </td></tr>\n",
       "\t<tr><td>datasets                                                       </td><td>austres                                                        </td><td>Quarterly Time Series of the Number of Australian Residents    </td></tr>\n",
       "\t<tr><td>datasets                                                       </td><td>beaver1 (beavers)                                              </td><td>Body Temperature Series of Two Beavers                         </td></tr>\n",
       "\t<tr><td>datasets                                                       </td><td>beaver2 (beavers)                                              </td><td>Body Temperature Series of Two Beavers                         </td></tr>\n",
       "\t<tr><td>datasets                                                       </td><td>cars                                                           </td><td>Speed and Stopping Distances of Cars                           </td></tr>\n",
       "\t<tr><td>datasets                                                       </td><td>chickwts                                                       </td><td>Chicken Weights by Feed Type                                   </td></tr>\n",
       "\t<tr><td>datasets                                                       </td><td>co2                                                            </td><td>Mauna Loa Atmospheric CO2 Concentration                        </td></tr>\n",
       "\t<tr><td>datasets                                                       </td><td>crimtab                                                        </td><td>Student's 3000 Criminals Data                                  </td></tr>\n",
       "\t<tr><td>datasets                                                       </td><td>discoveries                                                    </td><td>Yearly Numbers of Important Discoveries                        </td></tr>\n",
       "\t<tr><td>datasets                                                       </td><td>esoph                                                          </td><td>Smoking, Alcohol and (O)esophageal Cancer                      </td></tr>\n",
       "\t<tr><td>datasets                                                       </td><td>euro                                                           </td><td>Conversion Rates of Euro Currencies                            </td></tr>\n",
       "\t<tr><td>datasets                                                       </td><td>euro.cross (euro)                                              </td><td>Conversion Rates of Euro Currencies                            </td></tr>\n",
       "\t<tr><td>datasets                                                       </td><td>eurodist                                                       </td><td>Distances Between European Cities and Between US Cities        </td></tr>\n",
       "\t<tr><td>datasets                                                       </td><td>faithful                                                       </td><td>Old Faithful Geyser Data                                       </td></tr>\n",
       "\t<tr><td>datasets                                                       </td><td>fdeaths (UKLungDeaths)                                         </td><td>Monthly Deaths from Lung Diseases in the UK                    </td></tr>\n",
       "\t<tr><td>datasets                                                       </td><td>freeny                                                         </td><td>Freeny's Revenue Data                                          </td></tr>\n",
       "\t<tr><td>datasets                                                       </td><td>freeny.x (freeny)                                              </td><td>Freeny's Revenue Data                                          </td></tr>\n",
       "\t<tr><td>datasets                                                       </td><td>freeny.y (freeny)                                              </td><td>Freeny's Revenue Data                                          </td></tr>\n",
       "\t<tr><td>datasets                                                       </td><td>infert                                                         </td><td>Infertility after Spontaneous and Induced Abortion             </td></tr>\n",
       "\t<tr><td>datasets                                                       </td><td>iris                                                           </td><td>Edgar Anderson's Iris Data                                     </td></tr>\n",
       "\t<tr><td>datasets                                                       </td><td>iris3                                                          </td><td>Edgar Anderson's Iris Data                                     </td></tr>\n",
       "\t<tr><td>datasets                                                       </td><td>islands                                                        </td><td>Areas of the World's Major Landmasses                          </td></tr>\n",
       "\t<tr><td>datasets                                                       </td><td>ldeaths (UKLungDeaths)                                         </td><td>Monthly Deaths from Lung Diseases in the UK                    </td></tr>\n",
       "\t<tr><td>datasets                                                       </td><td>lh                                                             </td><td>Luteinizing Hormone in Blood Samples                           </td></tr>\n",
       "\t<tr><td>datasets                                                       </td><td>longley                                                        </td><td>Longley's Economic Regression Data                             </td></tr>\n",
       "\t<tr><td>datasets                                                       </td><td>lynx                                                           </td><td>Annual Canadian Lynx trappings 1821-1934                       </td></tr>\n",
       "\t<tr><td>datasets                                                       </td><td>mdeaths (UKLungDeaths)                                         </td><td>Monthly Deaths from Lung Diseases in the UK                    </td></tr>\n",
       "\t<tr><td>datasets                                                       </td><td>morley                                                         </td><td>Michelson Speed of Light Data                                  </td></tr>\n",
       "\t<tr><td>datasets                                                       </td><td>mtcars                                                         </td><td>Motor Trend Car Road Tests                                     </td></tr>\n",
       "\t<tr><td>datasets                                                       </td><td>nhtemp                                                         </td><td>Average Yearly Temperatures in New Haven                       </td></tr>\n",
       "\t<tr><td>datasets                                                       </td><td>nottem                                                         </td><td>Average Monthly Temperatures at Nottingham, 1920-1939          </td></tr>\n",
       "\t<tr><td>datasets                                                       </td><td>npk                                                            </td><td>Classical N, P, K Factorial Experiment                         </td></tr>\n",
       "\t<tr><td>datasets                                                       </td><td>occupationalStatus                                             </td><td>Occupational Status of Fathers and their Sons                  </td></tr>\n",
       "\t<tr><td>datasets                                                       </td><td>precip                                                         </td><td>Annual Precipitation in US Cities                              </td></tr>\n",
       "\t<tr><td>datasets                                                       </td><td>presidents                                                     </td><td>Quarterly Approval Ratings of US Presidents                    </td></tr>\n",
       "\t<tr><td>datasets                                                       </td><td>pressure                                                       </td><td>Vapor Pressure of Mercury as a Function of Temperature         </td></tr>\n",
       "\t<tr><td>datasets                                                       </td><td>quakes                                                         </td><td>Locations of Earthquakes off Fiji                              </td></tr>\n",
       "\t<tr><td>datasets                                                       </td><td>randu                                                          </td><td>Random Numbers from Congruential Generator RANDU               </td></tr>\n",
       "\t<tr><td>datasets                                                       </td><td>rivers                                                         </td><td>Lengths of Major North American Rivers                         </td></tr>\n",
       "\t<tr><td>datasets                                                       </td><td>rock                                                           </td><td>Measurements on Petroleum Rock Samples                         </td></tr>\n",
       "\t<tr><td>datasets                                                       </td><td>sleep                                                          </td><td>Student's Sleep Data                                           </td></tr>\n",
       "\t<tr><td>datasets                                                       </td><td>stack.loss (stackloss)                                         </td><td>Brownlee's Stack Loss Plant Data                               </td></tr>\n",
       "\t<tr><td>datasets                                                       </td><td>stack.x (stackloss)                                            </td><td>Brownlee's Stack Loss Plant Data                               </td></tr>\n",
       "\t<tr><td>datasets                                                       </td><td>stackloss                                                      </td><td>Brownlee's Stack Loss Plant Data                               </td></tr>\n",
       "\t<tr><td>datasets                                                       </td><td>state.abb (state)                                              </td><td>US State Facts and Figures                                     </td></tr>\n",
       "\t<tr><td>datasets                                                       </td><td>state.area (state)                                             </td><td>US State Facts and Figures                                     </td></tr>\n",
       "\t<tr><td>datasets                                                       </td><td>state.center (state)                                           </td><td>US State Facts and Figures                                     </td></tr>\n",
       "\t<tr><td>datasets                                                       </td><td>state.division (state)                                         </td><td>US State Facts and Figures                                     </td></tr>\n",
       "\t<tr><td>datasets                                                       </td><td>state.name (state)                                             </td><td>US State Facts and Figures                                     </td></tr>\n",
       "\t<tr><td>datasets                                                       </td><td>state.region (state)                                           </td><td>US State Facts and Figures                                     </td></tr>\n",
       "\t<tr><td>datasets                                                       </td><td>state.x77 (state)                                              </td><td>US State Facts and Figures                                     </td></tr>\n",
       "\t<tr><td>datasets                                                       </td><td>sunspot.month                                                  </td><td>Monthly Sunspot Data, from 1749 to \"Present\"                   </td></tr>\n",
       "\t<tr><td>datasets                                                       </td><td>sunspot.year                                                   </td><td>Yearly Sunspot Data, 1700-1988                                 </td></tr>\n",
       "\t<tr><td>datasets                                                       </td><td>sunspots                                                       </td><td>Monthly Sunspot Numbers, 1749-1983                             </td></tr>\n",
       "\t<tr><td>datasets                                                       </td><td>swiss                                                          </td><td>Swiss Fertility and Socioeconomic Indicators (1888) Data       </td></tr>\n",
       "\t<tr><td>datasets                                                       </td><td>treering                                                       </td><td>Yearly Treering Data, -6000-1979                               </td></tr>\n",
       "\t<tr><td>datasets                                                       </td><td>trees                                                          </td><td>Diameter, Height and Volume for Black Cherry Trees             </td></tr>\n",
       "\t<tr><td>datasets                                                       </td><td>uspop                                                          </td><td>Populations Recorded by the US Census                          </td></tr>\n",
       "\t<tr><td>datasets                                                       </td><td>volcano                                                        </td><td>Topographic Information on Auckland's Maunga Whau Volcano      </td></tr>\n",
       "\t<tr><td>datasets                                                       </td><td>warpbreaks                                                     </td><td>The Number of Breaks in Yarn during Weaving                    </td></tr>\n",
       "\t<tr><td>datasets                                                       </td><td>women                                                          </td><td>Average Heights and Weights for American Women                 </td></tr>\n",
       "</tbody>\n",
       "</table>\n",
       "\n",
       "<p>Use 'data(package = .packages(all.available = TRUE))'\n",
       "to list the data sets in all *available* packages.</p>"
      ],
      "text/plain": [
       "Data sets in package 'datasets':\n",
       "\n",
       "AirPassengers           Monthly Airline Passenger Numbers 1949-1960\n",
       "BJsales                 Sales Data with Leading Indicator\n",
       "BJsales.lead (BJsales)\n",
       "                        Sales Data with Leading Indicator\n",
       "BOD                     Biochemical Oxygen Demand\n",
       "CO2                     Carbon Dioxide Uptake in Grass Plants\n",
       "ChickWeight             Weight versus age of chicks on different diets\n",
       "DNase                   Elisa assay of DNase\n",
       "EuStockMarkets          Daily Closing Prices of Major European Stock\n",
       "                        Indices, 1991-1998\n",
       "Formaldehyde            Determination of Formaldehyde\n",
       "HairEyeColor            Hair and Eye Color of Statistics Students\n",
       "Harman23.cor            Harman Example 2.3\n",
       "Harman74.cor            Harman Example 7.4\n",
       "Indometh                Pharmacokinetics of Indomethacin\n",
       "InsectSprays            Effectiveness of Insect Sprays\n",
       "JohnsonJohnson          Quarterly Earnings per Johnson & Johnson Share\n",
       "LakeHuron               Level of Lake Huron 1875-1972\n",
       "LifeCycleSavings        Intercountry Life-Cycle Savings Data\n",
       "Loblolly                Growth of Loblolly pine trees\n",
       "Nile                    Flow of the River Nile\n",
       "Orange                  Growth of Orange Trees\n",
       "OrchardSprays           Potency of Orchard Sprays\n",
       "PlantGrowth             Results from an Experiment on Plant Growth\n",
       "Puromycin               Reaction Velocity of an Enzymatic Reaction\n",
       "Seatbelts               Road Casualties in Great Britain 1969-84\n",
       "Theoph                  Pharmacokinetics of Theophylline\n",
       "Titanic                 Survival of passengers on the Titanic\n",
       "ToothGrowth             The Effect of Vitamin C on Tooth Growth in\n",
       "                        Guinea Pigs\n",
       "UCBAdmissions           Student Admissions at UC Berkeley\n",
       "UKDriverDeaths          Road Casualties in Great Britain 1969-84\n",
       "UKgas                   UK Quarterly Gas Consumption\n",
       "USAccDeaths             Accidental Deaths in the US 1973-1978\n",
       "USArrests               Violent Crime Rates by US State\n",
       "USJudgeRatings          Lawyers' Ratings of State Judges in the US\n",
       "                        Superior Court\n",
       "USPersonalExpenditure   Personal Expenditure Data\n",
       "UScitiesD               Distances Between European Cities and Between\n",
       "                        US Cities\n",
       "VADeaths                Death Rates in Virginia (1940)\n",
       "WWWusage                Internet Usage per Minute\n",
       "WorldPhones             The World's Telephones\n",
       "ability.cov             Ability and Intelligence Tests\n",
       "airmiles                Passenger Miles on Commercial US Airlines,\n",
       "                        1937-1960\n",
       "airquality              New York Air Quality Measurements\n",
       "anscombe                Anscombe's Quartet of 'Identical' Simple Linear\n",
       "                        Regressions\n",
       "attenu                  The Joyner-Boore Attenuation Data\n",
       "attitude                The Chatterjee-Price Attitude Data\n",
       "austres                 Quarterly Time Series of the Number of\n",
       "                        Australian Residents\n",
       "beaver1 (beavers)       Body Temperature Series of Two Beavers\n",
       "beaver2 (beavers)       Body Temperature Series of Two Beavers\n",
       "cars                    Speed and Stopping Distances of Cars\n",
       "chickwts                Chicken Weights by Feed Type\n",
       "co2                     Mauna Loa Atmospheric CO2 Concentration\n",
       "crimtab                 Student's 3000 Criminals Data\n",
       "discoveries             Yearly Numbers of Important Discoveries\n",
       "esoph                   Smoking, Alcohol and (O)esophageal Cancer\n",
       "euro                    Conversion Rates of Euro Currencies\n",
       "euro.cross (euro)       Conversion Rates of Euro Currencies\n",
       "eurodist                Distances Between European Cities and Between\n",
       "                        US Cities\n",
       "faithful                Old Faithful Geyser Data\n",
       "fdeaths (UKLungDeaths)\n",
       "                        Monthly Deaths from Lung Diseases in the UK\n",
       "freeny                  Freeny's Revenue Data\n",
       "freeny.x (freeny)       Freeny's Revenue Data\n",
       "freeny.y (freeny)       Freeny's Revenue Data\n",
       "infert                  Infertility after Spontaneous and Induced\n",
       "                        Abortion\n",
       "iris                    Edgar Anderson's Iris Data\n",
       "iris3                   Edgar Anderson's Iris Data\n",
       "islands                 Areas of the World's Major Landmasses\n",
       "ldeaths (UKLungDeaths)\n",
       "                        Monthly Deaths from Lung Diseases in the UK\n",
       "lh                      Luteinizing Hormone in Blood Samples\n",
       "longley                 Longley's Economic Regression Data\n",
       "lynx                    Annual Canadian Lynx trappings 1821-1934\n",
       "mdeaths (UKLungDeaths)\n",
       "                        Monthly Deaths from Lung Diseases in the UK\n",
       "morley                  Michelson Speed of Light Data\n",
       "mtcars                  Motor Trend Car Road Tests\n",
       "nhtemp                  Average Yearly Temperatures in New Haven\n",
       "nottem                  Average Monthly Temperatures at Nottingham,\n",
       "                        1920-1939\n",
       "npk                     Classical N, P, K Factorial Experiment\n",
       "occupationalStatus      Occupational Status of Fathers and their Sons\n",
       "precip                  Annual Precipitation in US Cities\n",
       "presidents              Quarterly Approval Ratings of US Presidents\n",
       "pressure                Vapor Pressure of Mercury as a Function of\n",
       "                        Temperature\n",
       "quakes                  Locations of Earthquakes off Fiji\n",
       "randu                   Random Numbers from Congruential Generator\n",
       "                        RANDU\n",
       "rivers                  Lengths of Major North American Rivers\n",
       "rock                    Measurements on Petroleum Rock Samples\n",
       "sleep                   Student's Sleep Data\n",
       "stack.loss (stackloss)\n",
       "                        Brownlee's Stack Loss Plant Data\n",
       "stack.x (stackloss)     Brownlee's Stack Loss Plant Data\n",
       "stackloss               Brownlee's Stack Loss Plant Data\n",
       "state.abb (state)       US State Facts and Figures\n",
       "state.area (state)      US State Facts and Figures\n",
       "state.center (state)    US State Facts and Figures\n",
       "state.division (state)\n",
       "                        US State Facts and Figures\n",
       "state.name (state)      US State Facts and Figures\n",
       "state.region (state)    US State Facts and Figures\n",
       "state.x77 (state)       US State Facts and Figures\n",
       "sunspot.month           Monthly Sunspot Data, from 1749 to \"Present\"\n",
       "sunspot.year            Yearly Sunspot Data, 1700-1988\n",
       "sunspots                Monthly Sunspot Numbers, 1749-1983\n",
       "swiss                   Swiss Fertility and Socioeconomic Indicators\n",
       "                        (1888) Data\n",
       "treering                Yearly Treering Data, -6000-1979\n",
       "trees                   Diameter, Height and Volume for Black Cherry\n",
       "                        Trees\n",
       "uspop                   Populations Recorded by the US Census\n",
       "volcano                 Topographic Information on Auckland's Maunga\n",
       "                        Whau Volcano\n",
       "warpbreaks              The Number of Breaks in Yarn during Weaving\n",
       "women                   Average Heights and Weights for American Women\n",
       "\n",
       "Use 'data(package = .packages(all.available = TRUE))'\n",
       "to list the data sets in all *available* packages."
      ]
     },
     "metadata": {},
     "output_type": "display_data"
    }
   ],
   "source": [
    "data()"
   ]
  },
  {
   "cell_type": "code",
   "execution_count": 10,
   "id": "0856775e-9338-40e2-bb41-373cabe7e3c0",
   "metadata": {},
   "outputs": [
    {
     "name": "stderr",
     "output_type": "stream",
     "text": [
      "Warning message in data(package = .packages(all.available = TRUE)):\n",
      "\"datasets have been moved from package 'base' to package 'datasets'\"Warning message in data(package = .packages(all.available = TRUE)):\n",
      "\"datasets have been moved from package 'stats' to package 'datasets'\""
     ]
    },
    {
     "data": {
      "text/html": [
       "<h3>Data sets</h3>\n",
       "<table>\n",
       "<thead><tr><th scope=col>Package</th><th scope=col>Item</th><th scope=col>Title</th></tr></thead>\n",
       "<tbody>\n",
       "\t<tr><td>datasets                                                       </td><td>AirPassengers                                                  </td><td>Monthly Airline Passenger Numbers 1949-1960                    </td></tr>\n",
       "\t<tr><td>datasets                                                       </td><td>BJsales                                                        </td><td>Sales Data with Leading Indicator                              </td></tr>\n",
       "\t<tr><td>datasets                                                       </td><td>BJsales.lead (BJsales)                                         </td><td>Sales Data with Leading Indicator                              </td></tr>\n",
       "\t<tr><td>datasets                                                       </td><td>BOD                                                            </td><td>Biochemical Oxygen Demand                                      </td></tr>\n",
       "\t<tr><td>datasets                                                       </td><td>CO2                                                            </td><td>Carbon Dioxide Uptake in Grass Plants                          </td></tr>\n",
       "\t<tr><td>datasets                                                       </td><td>ChickWeight                                                    </td><td>Weight versus age of chicks on different diets                 </td></tr>\n",
       "\t<tr><td>datasets                                                       </td><td>DNase                                                          </td><td>Elisa assay of DNase                                           </td></tr>\n",
       "\t<tr><td>datasets                                                       </td><td>EuStockMarkets                                                 </td><td>Daily Closing Prices of Major European Stock Indices, 1991-1998</td></tr>\n",
       "\t<tr><td>datasets                                                       </td><td>Formaldehyde                                                   </td><td>Determination of Formaldehyde                                  </td></tr>\n",
       "\t<tr><td>datasets                                                       </td><td>HairEyeColor                                                   </td><td>Hair and Eye Color of Statistics Students                      </td></tr>\n",
       "\t<tr><td>datasets                                                       </td><td>Harman23.cor                                                   </td><td>Harman Example 2.3                                             </td></tr>\n",
       "\t<tr><td>datasets                                                       </td><td>Harman74.cor                                                   </td><td>Harman Example 7.4                                             </td></tr>\n",
       "\t<tr><td>datasets                                                       </td><td>Indometh                                                       </td><td>Pharmacokinetics of Indomethacin                               </td></tr>\n",
       "\t<tr><td>datasets                                                       </td><td>InsectSprays                                                   </td><td>Effectiveness of Insect Sprays                                 </td></tr>\n",
       "\t<tr><td>datasets                                                                                                   </td><td><span style=white-space:pre-wrap>JohnsonJohnson        </span>                                             </td><td><span style=white-space:pre-wrap>Quarterly Earnings per Johnson &amp; Johnson Share                 </span></td></tr>\n",
       "\t<tr><td>datasets                                                       </td><td>LakeHuron                                                      </td><td>Level of Lake Huron 1875-1972                                  </td></tr>\n",
       "\t<tr><td>datasets                                                       </td><td>LifeCycleSavings                                               </td><td>Intercountry Life-Cycle Savings Data                           </td></tr>\n",
       "\t<tr><td>datasets                                                       </td><td>Loblolly                                                       </td><td>Growth of Loblolly pine trees                                  </td></tr>\n",
       "\t<tr><td>datasets                                                       </td><td>Nile                                                           </td><td>Flow of the River Nile                                         </td></tr>\n",
       "\t<tr><td>datasets                                                       </td><td>Orange                                                         </td><td>Growth of Orange Trees                                         </td></tr>\n",
       "\t<tr><td>datasets                                                       </td><td>OrchardSprays                                                  </td><td>Potency of Orchard Sprays                                      </td></tr>\n",
       "\t<tr><td>datasets                                                       </td><td>PlantGrowth                                                    </td><td>Results from an Experiment on Plant Growth                     </td></tr>\n",
       "\t<tr><td>datasets                                                       </td><td>Puromycin                                                      </td><td>Reaction Velocity of an Enzymatic Reaction                     </td></tr>\n",
       "\t<tr><td>datasets                                                       </td><td>Seatbelts                                                      </td><td>Road Casualties in Great Britain 1969-84                       </td></tr>\n",
       "\t<tr><td>datasets                                                       </td><td>Theoph                                                         </td><td>Pharmacokinetics of Theophylline                               </td></tr>\n",
       "\t<tr><td>datasets                                                       </td><td>Titanic                                                        </td><td>Survival of passengers on the Titanic                          </td></tr>\n",
       "\t<tr><td>datasets                                                       </td><td>ToothGrowth                                                    </td><td>The Effect of Vitamin C on Tooth Growth in Guinea Pigs         </td></tr>\n",
       "\t<tr><td>datasets                                                       </td><td>UCBAdmissions                                                  </td><td>Student Admissions at UC Berkeley                              </td></tr>\n",
       "\t<tr><td>datasets                                                       </td><td>UKDriverDeaths                                                 </td><td>Road Casualties in Great Britain 1969-84                       </td></tr>\n",
       "\t<tr><td>datasets                                                       </td><td>UKgas                                                          </td><td>UK Quarterly Gas Consumption                                   </td></tr>\n",
       "\t<tr><td>datasets                                                       </td><td>USAccDeaths                                                    </td><td>Accidental Deaths in the US 1973-1978                          </td></tr>\n",
       "\t<tr><td>datasets                                                       </td><td>USArrests                                                      </td><td>Violent Crime Rates by US State                                </td></tr>\n",
       "\t<tr><td>datasets                                                       </td><td>USJudgeRatings                                                 </td><td>Lawyers' Ratings of State Judges in the US Superior Court      </td></tr>\n",
       "\t<tr><td>datasets                                                       </td><td>USPersonalExpenditure                                          </td><td>Personal Expenditure Data                                      </td></tr>\n",
       "\t<tr><td>datasets                                                       </td><td>UScitiesD                                                      </td><td>Distances Between European Cities and Between US Cities        </td></tr>\n",
       "\t<tr><td>datasets                                                       </td><td>VADeaths                                                       </td><td>Death Rates in Virginia (1940)                                 </td></tr>\n",
       "\t<tr><td>datasets                                                       </td><td>WWWusage                                                       </td><td>Internet Usage per Minute                                      </td></tr>\n",
       "\t<tr><td>datasets                                                       </td><td>WorldPhones                                                    </td><td>The World's Telephones                                         </td></tr>\n",
       "\t<tr><td>datasets                                                       </td><td>ability.cov                                                    </td><td>Ability and Intelligence Tests                                 </td></tr>\n",
       "\t<tr><td>datasets                                                       </td><td>airmiles                                                       </td><td>Passenger Miles on Commercial US Airlines, 1937-1960           </td></tr>\n",
       "\t<tr><td>datasets                                                       </td><td>airquality                                                     </td><td>New York Air Quality Measurements                              </td></tr>\n",
       "\t<tr><td>datasets                                                       </td><td>anscombe                                                       </td><td>Anscombe's Quartet of 'Identical' Simple Linear Regressions    </td></tr>\n",
       "\t<tr><td>datasets                                                       </td><td>attenu                                                         </td><td>The Joyner-Boore Attenuation Data                              </td></tr>\n",
       "\t<tr><td>datasets                                                       </td><td>attitude                                                       </td><td>The Chatterjee-Price Attitude Data                             </td></tr>\n",
       "\t<tr><td>datasets                                                       </td><td>austres                                                        </td><td>Quarterly Time Series of the Number of Australian Residents    </td></tr>\n",
       "\t<tr><td>datasets                                                       </td><td>beaver1 (beavers)                                              </td><td>Body Temperature Series of Two Beavers                         </td></tr>\n",
       "\t<tr><td>datasets                                                       </td><td>beaver2 (beavers)                                              </td><td>Body Temperature Series of Two Beavers                         </td></tr>\n",
       "\t<tr><td>datasets                                                       </td><td>cars                                                           </td><td>Speed and Stopping Distances of Cars                           </td></tr>\n",
       "\t<tr><td>datasets                                                       </td><td>chickwts                                                       </td><td>Chicken Weights by Feed Type                                   </td></tr>\n",
       "\t<tr><td>datasets                                                       </td><td>co2                                                            </td><td>Mauna Loa Atmospheric CO2 Concentration                        </td></tr>\n",
       "\t<tr><td>datasets                                                       </td><td>crimtab                                                        </td><td>Student's 3000 Criminals Data                                  </td></tr>\n",
       "\t<tr><td>datasets                                                       </td><td>discoveries                                                    </td><td>Yearly Numbers of Important Discoveries                        </td></tr>\n",
       "\t<tr><td>datasets                                                       </td><td>esoph                                                          </td><td>Smoking, Alcohol and (O)esophageal Cancer                      </td></tr>\n",
       "\t<tr><td>datasets                                                       </td><td>euro                                                           </td><td>Conversion Rates of Euro Currencies                            </td></tr>\n",
       "\t<tr><td>datasets                                                       </td><td>euro.cross (euro)                                              </td><td>Conversion Rates of Euro Currencies                            </td></tr>\n",
       "\t<tr><td>datasets                                                       </td><td>eurodist                                                       </td><td>Distances Between European Cities and Between US Cities        </td></tr>\n",
       "\t<tr><td>datasets                                                       </td><td>faithful                                                       </td><td>Old Faithful Geyser Data                                       </td></tr>\n",
       "\t<tr><td>datasets                                                       </td><td>fdeaths (UKLungDeaths)                                         </td><td>Monthly Deaths from Lung Diseases in the UK                    </td></tr>\n",
       "\t<tr><td>datasets                                                       </td><td>freeny                                                         </td><td>Freeny's Revenue Data                                          </td></tr>\n",
       "\t<tr><td>datasets                                                       </td><td>freeny.x (freeny)                                              </td><td>Freeny's Revenue Data                                          </td></tr>\n",
       "\t<tr><td>datasets                                                       </td><td>freeny.y (freeny)                                              </td><td>Freeny's Revenue Data                                          </td></tr>\n",
       "\t<tr><td>datasets                                                       </td><td>infert                                                         </td><td>Infertility after Spontaneous and Induced Abortion             </td></tr>\n",
       "\t<tr><td>datasets                                                       </td><td>iris                                                           </td><td>Edgar Anderson's Iris Data                                     </td></tr>\n",
       "\t<tr><td>datasets                                                       </td><td>iris3                                                          </td><td>Edgar Anderson's Iris Data                                     </td></tr>\n",
       "\t<tr><td>datasets                                                       </td><td>islands                                                        </td><td>Areas of the World's Major Landmasses                          </td></tr>\n",
       "\t<tr><td>datasets                                                       </td><td>ldeaths (UKLungDeaths)                                         </td><td>Monthly Deaths from Lung Diseases in the UK                    </td></tr>\n",
       "\t<tr><td>datasets                                                       </td><td>lh                                                             </td><td>Luteinizing Hormone in Blood Samples                           </td></tr>\n",
       "\t<tr><td>datasets                                                       </td><td>longley                                                        </td><td>Longley's Economic Regression Data                             </td></tr>\n",
       "\t<tr><td>datasets                                                       </td><td>lynx                                                           </td><td>Annual Canadian Lynx trappings 1821-1934                       </td></tr>\n",
       "\t<tr><td>datasets                                                       </td><td>mdeaths (UKLungDeaths)                                         </td><td>Monthly Deaths from Lung Diseases in the UK                    </td></tr>\n",
       "\t<tr><td>datasets                                                       </td><td>morley                                                         </td><td>Michelson Speed of Light Data                                  </td></tr>\n",
       "\t<tr><td>datasets                                                       </td><td>mtcars                                                         </td><td>Motor Trend Car Road Tests                                     </td></tr>\n",
       "\t<tr><td>datasets                                                       </td><td>nhtemp                                                         </td><td>Average Yearly Temperatures in New Haven                       </td></tr>\n",
       "\t<tr><td>datasets                                                       </td><td>nottem                                                         </td><td>Average Monthly Temperatures at Nottingham, 1920-1939          </td></tr>\n",
       "\t<tr><td>datasets                                                       </td><td>npk                                                            </td><td>Classical N, P, K Factorial Experiment                         </td></tr>\n",
       "\t<tr><td>datasets                                                       </td><td>occupationalStatus                                             </td><td>Occupational Status of Fathers and their Sons                  </td></tr>\n",
       "\t<tr><td>datasets                                                       </td><td>precip                                                         </td><td>Annual Precipitation in US Cities                              </td></tr>\n",
       "\t<tr><td>datasets                                                       </td><td>presidents                                                     </td><td>Quarterly Approval Ratings of US Presidents                    </td></tr>\n",
       "\t<tr><td>datasets                                                       </td><td>pressure                                                       </td><td>Vapor Pressure of Mercury as a Function of Temperature         </td></tr>\n",
       "\t<tr><td>datasets                                                       </td><td>quakes                                                         </td><td>Locations of Earthquakes off Fiji                              </td></tr>\n",
       "\t<tr><td>datasets                                                       </td><td>randu                                                          </td><td>Random Numbers from Congruential Generator RANDU               </td></tr>\n",
       "\t<tr><td>datasets                                                       </td><td>rivers                                                         </td><td>Lengths of Major North American Rivers                         </td></tr>\n",
       "\t<tr><td>datasets                                                       </td><td>rock                                                           </td><td>Measurements on Petroleum Rock Samples                         </td></tr>\n",
       "\t<tr><td>datasets                                                       </td><td>sleep                                                          </td><td>Student's Sleep Data                                           </td></tr>\n",
       "\t<tr><td>datasets                                                       </td><td>stack.loss (stackloss)                                         </td><td>Brownlee's Stack Loss Plant Data                               </td></tr>\n",
       "\t<tr><td>datasets                                                       </td><td>stack.x (stackloss)                                            </td><td>Brownlee's Stack Loss Plant Data                               </td></tr>\n",
       "\t<tr><td>datasets                                                       </td><td>stackloss                                                      </td><td>Brownlee's Stack Loss Plant Data                               </td></tr>\n",
       "\t<tr><td>datasets                                                       </td><td>state.abb (state)                                              </td><td>US State Facts and Figures                                     </td></tr>\n",
       "\t<tr><td>datasets                                                       </td><td>state.area (state)                                             </td><td>US State Facts and Figures                                     </td></tr>\n",
       "\t<tr><td>datasets                                                       </td><td>state.center (state)                                           </td><td>US State Facts and Figures                                     </td></tr>\n",
       "\t<tr><td>datasets                                                       </td><td>state.division (state)                                         </td><td>US State Facts and Figures                                     </td></tr>\n",
       "\t<tr><td>datasets                                                       </td><td>state.name (state)                                             </td><td>US State Facts and Figures                                     </td></tr>\n",
       "\t<tr><td>datasets                                                       </td><td>state.region (state)                                           </td><td>US State Facts and Figures                                     </td></tr>\n",
       "\t<tr><td>datasets                                                       </td><td>state.x77 (state)                                              </td><td>US State Facts and Figures                                     </td></tr>\n",
       "\t<tr><td>datasets                                                       </td><td>sunspot.month                                                  </td><td>Monthly Sunspot Data, from 1749 to \"Present\"                   </td></tr>\n",
       "\t<tr><td>datasets                                                       </td><td>sunspot.year                                                   </td><td>Yearly Sunspot Data, 1700-1988                                 </td></tr>\n",
       "\t<tr><td>datasets                                                       </td><td>sunspots                                                       </td><td>Monthly Sunspot Numbers, 1749-1983                             </td></tr>\n",
       "\t<tr><td>datasets                                                       </td><td>swiss                                                          </td><td>Swiss Fertility and Socioeconomic Indicators (1888) Data       </td></tr>\n",
       "\t<tr><td>datasets                                                       </td><td>treering                                                       </td><td>Yearly Treering Data, -6000-1979                               </td></tr>\n",
       "\t<tr><td>datasets                                                       </td><td>trees                                                          </td><td>Diameter, Height and Volume for Black Cherry Trees             </td></tr>\n",
       "\t<tr><td>datasets                                                       </td><td>uspop                                                          </td><td>Populations Recorded by the US Census                          </td></tr>\n",
       "\t<tr><td>datasets                                                       </td><td>volcano                                                        </td><td>Topographic Information on Auckland's Maunga Whau Volcano      </td></tr>\n",
       "\t<tr><td>datasets                                                       </td><td>warpbreaks                                                     </td><td>The Number of Breaks in Yarn during Weaving                    </td></tr>\n",
       "\t<tr><td>datasets                                                       </td><td>women                                                          </td><td>Average Heights and Weights for American Women                 </td></tr>\n",
       "</tbody>\n",
       "</table>\n",
       "\n"
      ],
      "text/plain": [
       "Data sets in package 'datasets':\n",
       "\n",
       "AirPassengers           Monthly Airline Passenger Numbers 1949-1960\n",
       "BJsales                 Sales Data with Leading Indicator\n",
       "BJsales.lead (BJsales)\n",
       "                        Sales Data with Leading Indicator\n",
       "BOD                     Biochemical Oxygen Demand\n",
       "CO2                     Carbon Dioxide Uptake in Grass Plants\n",
       "ChickWeight             Weight versus age of chicks on different diets\n",
       "DNase                   Elisa assay of DNase\n",
       "EuStockMarkets          Daily Closing Prices of Major European Stock\n",
       "                        Indices, 1991-1998\n",
       "Formaldehyde            Determination of Formaldehyde\n",
       "HairEyeColor            Hair and Eye Color of Statistics Students\n",
       "Harman23.cor            Harman Example 2.3\n",
       "Harman74.cor            Harman Example 7.4\n",
       "Indometh                Pharmacokinetics of Indomethacin\n",
       "InsectSprays            Effectiveness of Insect Sprays\n",
       "JohnsonJohnson          Quarterly Earnings per Johnson & Johnson Share\n",
       "LakeHuron               Level of Lake Huron 1875-1972\n",
       "LifeCycleSavings        Intercountry Life-Cycle Savings Data\n",
       "Loblolly                Growth of Loblolly pine trees\n",
       "Nile                    Flow of the River Nile\n",
       "Orange                  Growth of Orange Trees\n",
       "OrchardSprays           Potency of Orchard Sprays\n",
       "PlantGrowth             Results from an Experiment on Plant Growth\n",
       "Puromycin               Reaction Velocity of an Enzymatic Reaction\n",
       "Seatbelts               Road Casualties in Great Britain 1969-84\n",
       "Theoph                  Pharmacokinetics of Theophylline\n",
       "Titanic                 Survival of passengers on the Titanic\n",
       "ToothGrowth             The Effect of Vitamin C on Tooth Growth in\n",
       "                        Guinea Pigs\n",
       "UCBAdmissions           Student Admissions at UC Berkeley\n",
       "UKDriverDeaths          Road Casualties in Great Britain 1969-84\n",
       "UKgas                   UK Quarterly Gas Consumption\n",
       "USAccDeaths             Accidental Deaths in the US 1973-1978\n",
       "USArrests               Violent Crime Rates by US State\n",
       "USJudgeRatings          Lawyers' Ratings of State Judges in the US\n",
       "                        Superior Court\n",
       "USPersonalExpenditure   Personal Expenditure Data\n",
       "UScitiesD               Distances Between European Cities and Between\n",
       "                        US Cities\n",
       "VADeaths                Death Rates in Virginia (1940)\n",
       "WWWusage                Internet Usage per Minute\n",
       "WorldPhones             The World's Telephones\n",
       "ability.cov             Ability and Intelligence Tests\n",
       "airmiles                Passenger Miles on Commercial US Airlines,\n",
       "                        1937-1960\n",
       "airquality              New York Air Quality Measurements\n",
       "anscombe                Anscombe's Quartet of 'Identical' Simple Linear\n",
       "                        Regressions\n",
       "attenu                  The Joyner-Boore Attenuation Data\n",
       "attitude                The Chatterjee-Price Attitude Data\n",
       "austres                 Quarterly Time Series of the Number of\n",
       "                        Australian Residents\n",
       "beaver1 (beavers)       Body Temperature Series of Two Beavers\n",
       "beaver2 (beavers)       Body Temperature Series of Two Beavers\n",
       "cars                    Speed and Stopping Distances of Cars\n",
       "chickwts                Chicken Weights by Feed Type\n",
       "co2                     Mauna Loa Atmospheric CO2 Concentration\n",
       "crimtab                 Student's 3000 Criminals Data\n",
       "discoveries             Yearly Numbers of Important Discoveries\n",
       "esoph                   Smoking, Alcohol and (O)esophageal Cancer\n",
       "euro                    Conversion Rates of Euro Currencies\n",
       "euro.cross (euro)       Conversion Rates of Euro Currencies\n",
       "eurodist                Distances Between European Cities and Between\n",
       "                        US Cities\n",
       "faithful                Old Faithful Geyser Data\n",
       "fdeaths (UKLungDeaths)\n",
       "                        Monthly Deaths from Lung Diseases in the UK\n",
       "freeny                  Freeny's Revenue Data\n",
       "freeny.x (freeny)       Freeny's Revenue Data\n",
       "freeny.y (freeny)       Freeny's Revenue Data\n",
       "infert                  Infertility after Spontaneous and Induced\n",
       "                        Abortion\n",
       "iris                    Edgar Anderson's Iris Data\n",
       "iris3                   Edgar Anderson's Iris Data\n",
       "islands                 Areas of the World's Major Landmasses\n",
       "ldeaths (UKLungDeaths)\n",
       "                        Monthly Deaths from Lung Diseases in the UK\n",
       "lh                      Luteinizing Hormone in Blood Samples\n",
       "longley                 Longley's Economic Regression Data\n",
       "lynx                    Annual Canadian Lynx trappings 1821-1934\n",
       "mdeaths (UKLungDeaths)\n",
       "                        Monthly Deaths from Lung Diseases in the UK\n",
       "morley                  Michelson Speed of Light Data\n",
       "mtcars                  Motor Trend Car Road Tests\n",
       "nhtemp                  Average Yearly Temperatures in New Haven\n",
       "nottem                  Average Monthly Temperatures at Nottingham,\n",
       "                        1920-1939\n",
       "npk                     Classical N, P, K Factorial Experiment\n",
       "occupationalStatus      Occupational Status of Fathers and their Sons\n",
       "precip                  Annual Precipitation in US Cities\n",
       "presidents              Quarterly Approval Ratings of US Presidents\n",
       "pressure                Vapor Pressure of Mercury as a Function of\n",
       "                        Temperature\n",
       "quakes                  Locations of Earthquakes off Fiji\n",
       "randu                   Random Numbers from Congruential Generator\n",
       "                        RANDU\n",
       "rivers                  Lengths of Major North American Rivers\n",
       "rock                    Measurements on Petroleum Rock Samples\n",
       "sleep                   Student's Sleep Data\n",
       "stack.loss (stackloss)\n",
       "                        Brownlee's Stack Loss Plant Data\n",
       "stack.x (stackloss)     Brownlee's Stack Loss Plant Data\n",
       "stackloss               Brownlee's Stack Loss Plant Data\n",
       "state.abb (state)       US State Facts and Figures\n",
       "state.area (state)      US State Facts and Figures\n",
       "state.center (state)    US State Facts and Figures\n",
       "state.division (state)\n",
       "                        US State Facts and Figures\n",
       "state.name (state)      US State Facts and Figures\n",
       "state.region (state)    US State Facts and Figures\n",
       "state.x77 (state)       US State Facts and Figures\n",
       "sunspot.month           Monthly Sunspot Data, from 1749 to \"Present\"\n",
       "sunspot.year            Yearly Sunspot Data, 1700-1988\n",
       "sunspots                Monthly Sunspot Numbers, 1749-1983\n",
       "swiss                   Swiss Fertility and Socioeconomic Indicators\n",
       "                        (1888) Data\n",
       "treering                Yearly Treering Data, -6000-1979\n",
       "trees                   Diameter, Height and Volume for Black Cherry\n",
       "                        Trees\n",
       "uspop                   Populations Recorded by the US Census\n",
       "volcano                 Topographic Information on Auckland's Maunga\n",
       "                        Whau Volcano\n",
       "warpbreaks              The Number of Breaks in Yarn during Weaving\n",
       "women                   Average Heights and Weights for American Women"
      ]
     },
     "metadata": {},
     "output_type": "display_data"
    }
   ],
   "source": [
    "data(package = .packages(all.available = TRUE))"
   ]
  },
  {
   "cell_type": "markdown",
   "id": "54e29743-4daf-4a7d-92a3-bc0f8eb7109f",
   "metadata": {},
   "source": [
    "______________\n",
    "#### Now inspecting the esoph-dataset, starting with the summary."
   ]
  },
  {
   "cell_type": "code",
   "execution_count": 7,
   "id": "d9103426-265c-48e8-82e8-565a83907d34",
   "metadata": {},
   "outputs": [
    {
     "data": {
      "text/plain": [
       "   agegp          alcgp         tobgp        ncases         ncontrols    \n",
       " 25-34:15   0-39g/day:23   0-9g/day:24   Min.   : 0.000   Min.   : 1.00  \n",
       " 35-44:15   40-79    :23   10-19   :24   1st Qu.: 0.000   1st Qu.: 3.00  \n",
       " 45-54:16   80-119   :21   20-29   :20   Median : 1.000   Median : 6.00  \n",
       " 55-64:16   120+     :21   30+     :20   Mean   : 2.273   Mean   :11.08  \n",
       " 65-74:15                                3rd Qu.: 4.000   3rd Qu.:14.00  \n",
       " 75+  :11                                Max.   :17.000   Max.   :60.00  "
      ]
     },
     "metadata": {},
     "output_type": "display_data"
    }
   ],
   "source": [
    "summary(esoph)"
   ]
  },
  {
   "cell_type": "markdown",
   "id": "cc92e525-c9c8-4c51-8f65-2143fdd7bfff",
   "metadata": {},
   "source": [
    "#### Checking how the entries themselves look."
   ]
  },
  {
   "cell_type": "code",
   "execution_count": 11,
   "id": "87fdd9c7-dccc-4ce4-9d54-71e9f5013922",
   "metadata": {},
   "outputs": [
    {
     "data": {
      "text/html": [
       "<table>\n",
       "<thead><tr><th scope=col>agegp</th><th scope=col>alcgp</th><th scope=col>tobgp</th><th scope=col>ncases</th><th scope=col>ncontrols</th></tr></thead>\n",
       "<tbody>\n",
       "\t<tr><td>25-34    </td><td>0-39g/day</td><td>0-9g/day </td><td>0        </td><td>40       </td></tr>\n",
       "\t<tr><td>25-34    </td><td>0-39g/day</td><td>10-19    </td><td>0        </td><td>10       </td></tr>\n",
       "\t<tr><td>25-34    </td><td>0-39g/day</td><td>20-29    </td><td>0        </td><td> 6       </td></tr>\n",
       "\t<tr><td>25-34    </td><td>0-39g/day</td><td>30+      </td><td>0        </td><td> 5       </td></tr>\n",
       "\t<tr><td>25-34    </td><td>40-79    </td><td>0-9g/day </td><td>0        </td><td>27       </td></tr>\n",
       "\t<tr><td>25-34    </td><td>40-79    </td><td>10-19    </td><td>0        </td><td> 7       </td></tr>\n",
       "</tbody>\n",
       "</table>\n"
      ],
      "text/latex": [
       "\\begin{tabular}{r|lllll}\n",
       " agegp & alcgp & tobgp & ncases & ncontrols\\\\\n",
       "\\hline\n",
       "\t 25-34     & 0-39g/day & 0-9g/day  & 0         & 40       \\\\\n",
       "\t 25-34     & 0-39g/day & 10-19     & 0         & 10       \\\\\n",
       "\t 25-34     & 0-39g/day & 20-29     & 0         &  6       \\\\\n",
       "\t 25-34     & 0-39g/day & 30+       & 0         &  5       \\\\\n",
       "\t 25-34     & 40-79     & 0-9g/day  & 0         & 27       \\\\\n",
       "\t 25-34     & 40-79     & 10-19     & 0         &  7       \\\\\n",
       "\\end{tabular}\n"
      ],
      "text/markdown": [
       "\n",
       "| agegp | alcgp | tobgp | ncases | ncontrols |\n",
       "|---|---|---|---|---|\n",
       "| 25-34     | 0-39g/day | 0-9g/day  | 0         | 40        |\n",
       "| 25-34     | 0-39g/day | 10-19     | 0         | 10        |\n",
       "| 25-34     | 0-39g/day | 20-29     | 0         |  6        |\n",
       "| 25-34     | 0-39g/day | 30+       | 0         |  5        |\n",
       "| 25-34     | 40-79     | 0-9g/day  | 0         | 27        |\n",
       "| 25-34     | 40-79     | 10-19     | 0         |  7        |\n",
       "\n"
      ],
      "text/plain": [
       "  agegp alcgp     tobgp    ncases ncontrols\n",
       "1 25-34 0-39g/day 0-9g/day 0      40       \n",
       "2 25-34 0-39g/day 10-19    0      10       \n",
       "3 25-34 0-39g/day 20-29    0       6       \n",
       "4 25-34 0-39g/day 30+      0       5       \n",
       "5 25-34 40-79     0-9g/day 0      27       \n",
       "6 25-34 40-79     10-19    0       7       "
      ]
     },
     "metadata": {},
     "output_type": "display_data"
    }
   ],
   "source": [
    "head(esoph)"
   ]
  },
  {
   "cell_type": "markdown",
   "id": "854fa712-7223-4e68-9569-451b05fb14db",
   "metadata": {},
   "source": [
    "#### Finding the mean number of cancer cases in the age group 55-64."
   ]
  },
  {
   "cell_type": "code",
   "execution_count": 12,
   "id": "24a9fb54-4d98-4c03-890a-18c3ae22fa5f",
   "metadata": {},
   "outputs": [
    {
     "data": {
      "text/html": [
       "4.75"
      ],
      "text/latex": [
       "4.75"
      ],
      "text/markdown": [
       "4.75"
      ],
      "text/plain": [
       "[1] 4.75"
      ]
     },
     "metadata": {},
     "output_type": "display_data"
    }
   ],
   "source": [
    "mean(subset(esoph$ncases, esoph$agegp == \"55-64\"))"
   ]
  },
  {
   "cell_type": "markdown",
   "id": "88f60f3e-deb9-4c48-9564-2d415e1e8ac2",
   "metadata": {},
   "source": [
    "#### Calculating a random correlation and drawing the regression (since ncontrols and ncases are the only numeric fields, we'll use those, although it doesn't make sense for deriving any useful statements)."
   ]
  },
  {
   "cell_type": "code",
   "execution_count": 14,
   "id": "5d019042-fc8b-4118-9cbe-79242705e370",
   "metadata": {},
   "outputs": [
    {
     "data": {
      "text/html": [
       "0.316691777650461"
      ],
      "text/latex": [
       "0.316691777650461"
      ],
      "text/markdown": [
       "0.316691777650461"
      ],
      "text/plain": [
       "[1] 0.3166918"
      ]
     },
     "metadata": {},
     "output_type": "display_data"
    }
   ],
   "source": [
    "cor(esoph$ncontrols, esoph$ncases, method=\"pearson\")"
   ]
  },
  {
   "cell_type": "code",
   "execution_count": 15,
   "id": "22f9e77c-c415-488e-8cb5-141957ee3666",
   "metadata": {},
   "outputs": [
    {
     "data": {
      "text/plain": [
       "\n",
       "Call:\n",
       "lm(formula = esoph$ncontrols ~ esoph$ncases)\n",
       "\n",
       "Residuals:\n",
       "   Min     1Q Median     3Q    Max \n",
       "-9.607 -7.315 -4.571  1.587 52.247 \n",
       "\n",
       "Coefficients:\n",
       "             Estimate Std. Error t value Pr(>|t|)    \n",
       "(Intercept)    7.7535     1.6817   4.610 1.39e-05 ***\n",
       "esoph$ncases   1.4635     0.4727   3.096  0.00265 ** \n",
       "---\n",
       "Signif. codes:  0 '***' 0.001 '**' 0.01 '*' 0.05 '.' 0.1 ' ' 1\n",
       "\n",
       "Residual standard error: 12.14 on 86 degrees of freedom\n",
       "Multiple R-squared:  0.1003,\tAdjusted R-squared:  0.08983 \n",
       "F-statistic: 9.587 on 1 and 86 DF,  p-value: 0.002646\n"
      ]
     },
     "metadata": {},
     "output_type": "display_data"
    },
    {
     "data": {
      "image/png": "[encoded data removed]",
      "text/plain": [
       "plot without title"
      ]
     },
     "metadata": {},
     "output_type": "display_data"
    }
   ],
   "source": [
    "reg <- lm(esoph$ncontrols~esoph$ncases)\n",
    "summary(reg)\n",
    "plot(esoph$ncontrols~esoph$ncases)\n",
    "abline(reg)"
   ]
  },
  {
   "cell_type": "markdown",
   "id": "5ffd6c01-ac86-4f7f-b0ec-001c18328f07",
   "metadata": {},
   "source": [
    "#### Creating a visualization that makes more sense, i.e. the number of entries per age group."
   ]
  },
  {
   "cell_type": "code",
   "execution_count": 31,
   "id": "dc75852b-90ff-401c-8656-444bb4b4c9ac",
   "metadata": {},
   "outputs": [
    {
     "data": {
      "image/png": "[encoded data removed]",
      "text/plain": [
       "plot without title"
      ]
     },
     "metadata": {},
     "output_type": "display_data"
    }
   ],
   "source": [
    "library(ggplot2)\n",
    "ggplot(esoph, aes(x = agegp)) + geom_bar(fill = \"cornflowerblue\",\n",
    "                                           color=\"black\") + labs(x = \"Age Group\", \n",
    "                                                                 y = \"Entries\", \n",
    "                                                                 title = \"Entries per Age Group\")"
   ]
  },
  {
   "cell_type": "markdown",
   "id": "1da89a92-5353-44e3-bbdb-304e36dec2a4",
   "metadata": {},
   "source": [
    "#### Find all entries within the Tobacco Group 20-29."
   ]
  },
  {
   "cell_type": "code",
   "execution_count": 25,
   "id": "f0ee3a0d-d800-411f-9738-41e1f8058e9a",
   "metadata": {},
   "outputs": [
    {
     "data": {
      "text/html": [
       "<table>\n",
       "<thead><tr><th></th><th scope=col>agegp</th><th scope=col>alcgp</th><th scope=col>tobgp</th><th scope=col>ncases</th><th scope=col>ncontrols</th></tr></thead>\n",
       "<tbody>\n",
       "\t<tr><th scope=row>3</th><td>25-34    </td><td>0-39g/day</td><td>20-29    </td><td>0        </td><td> 6       </td></tr>\n",
       "\t<tr><th scope=row>7</th><td>25-34    </td><td>40-79    </td><td>20-29    </td><td>0        </td><td> 4       </td></tr>\n",
       "\t<tr><th scope=row>14</th><td>25-34    </td><td>120+     </td><td>20-29    </td><td>0        </td><td> 1       </td></tr>\n",
       "\t<tr><th scope=row>18</th><td>35-44    </td><td>0-39g/day</td><td>20-29    </td><td>0        </td><td> 7       </td></tr>\n",
       "\t<tr><th scope=row>22</th><td>35-44    </td><td>40-79    </td><td>20-29    </td><td>1        </td><td>14       </td></tr>\n",
       "\t<tr><th scope=row>26</th><td>35-44    </td><td>80-119   </td><td>20-29    </td><td>0        </td><td> 2       </td></tr>\n",
       "\t<tr><th scope=row>30</th><td>35-44    </td><td>120+     </td><td>20-29    </td><td>2        </td><td> 4       </td></tr>\n",
       "\t<tr><th scope=row>33</th><td>45-54    </td><td>0-39g/day</td><td>20-29    </td><td>0        </td><td>10       </td></tr>\n",
       "\t<tr><th scope=row>37</th><td>45-54    </td><td>40-79    </td><td>20-29    </td><td>5        </td><td>15       </td></tr>\n",
       "\t<tr><th scope=row>41</th><td>45-54    </td><td>80-119   </td><td>20-29    </td><td>1        </td><td> 5       </td></tr>\n",
       "\t<tr><th scope=row>45</th><td>45-54    </td><td>120+     </td><td>20-29    </td><td>2        </td><td> 3       </td></tr>\n",
       "\t<tr><th scope=row>49</th><td>55-64    </td><td>0-39g/day</td><td>20-29    </td><td>3        </td><td>12       </td></tr>\n",
       "\t<tr><th scope=row>53</th><td>55-64    </td><td>40-79    </td><td>20-29    </td><td>4        </td><td>17       </td></tr>\n",
       "\t<tr><th scope=row>57</th><td>55-64    </td><td>80-119   </td><td>20-29    </td><td>3        </td><td> 6       </td></tr>\n",
       "\t<tr><th scope=row>61</th><td>55-64    </td><td>120+     </td><td>20-29    </td><td>2        </td><td> 3       </td></tr>\n",
       "\t<tr><th scope=row>65</th><td>65-74    </td><td>0-39g/day</td><td>20-29    </td><td>2        </td><td> 7       </td></tr>\n",
       "\t<tr><th scope=row>69</th><td>65-74    </td><td>40-79    </td><td>20-29    </td><td>5        </td><td> 9       </td></tr>\n",
       "\t<tr><th scope=row>72</th><td>65-74    </td><td>80-119   </td><td>20-29    </td><td>2        </td><td> 3       </td></tr>\n",
       "\t<tr><th scope=row>76</th><td>65-74    </td><td>120+     </td><td>20-29    </td><td>1        </td><td> 1       </td></tr>\n",
       "\t<tr><th scope=row>83</th><td>75+      </td><td>40-79    </td><td>20-29    </td><td>0        </td><td> 3       </td></tr>\n",
       "</tbody>\n",
       "</table>\n"
      ],
      "text/latex": [
       "\\begin{tabular}{r|lllll}\n",
       "  & agegp & alcgp & tobgp & ncases & ncontrols\\\\\n",
       "\\hline\n",
       "\t3 & 25-34     & 0-39g/day & 20-29     & 0         &  6       \\\\\n",
       "\t7 & 25-34     & 40-79     & 20-29     & 0         &  4       \\\\\n",
       "\t14 & 25-34     & 120+      & 20-29     & 0         &  1       \\\\\n",
       "\t18 & 35-44     & 0-39g/day & 20-29     & 0         &  7       \\\\\n",
       "\t22 & 35-44     & 40-79     & 20-29     & 1         & 14       \\\\\n",
       "\t26 & 35-44     & 80-119    & 20-29     & 0         &  2       \\\\\n",
       "\t30 & 35-44     & 120+      & 20-29     & 2         &  4       \\\\\n",
       "\t33 & 45-54     & 0-39g/day & 20-29     & 0         & 10       \\\\\n",
       "\t37 & 45-54     & 40-79     & 20-29     & 5         & 15       \\\\\n",
       "\t41 & 45-54     & 80-119    & 20-29     & 1         &  5       \\\\\n",
       "\t45 & 45-54     & 120+      & 20-29     & 2         &  3       \\\\\n",
       "\t49 & 55-64     & 0-39g/day & 20-29     & 3         & 12       \\\\\n",
       "\t53 & 55-64     & 40-79     & 20-29     & 4         & 17       \\\\\n",
       "\t57 & 55-64     & 80-119    & 20-29     & 3         &  6       \\\\\n",
       "\t61 & 55-64     & 120+      & 20-29     & 2         &  3       \\\\\n",
       "\t65 & 65-74     & 0-39g/day & 20-29     & 2         &  7       \\\\\n",
       "\t69 & 65-74     & 40-79     & 20-29     & 5         &  9       \\\\\n",
       "\t72 & 65-74     & 80-119    & 20-29     & 2         &  3       \\\\\n",
       "\t76 & 65-74     & 120+      & 20-29     & 1         &  1       \\\\\n",
       "\t83 & 75+       & 40-79     & 20-29     & 0         &  3       \\\\\n",
       "\\end{tabular}\n"
      ],
      "text/markdown": [
       "\n",
       "| <!--/--> | agegp | alcgp | tobgp | ncases | ncontrols |\n",
       "|---|---|---|---|---|---|\n",
       "| 3 | 25-34     | 0-39g/day | 20-29     | 0         |  6        |\n",
       "| 7 | 25-34     | 40-79     | 20-29     | 0         |  4        |\n",
       "| 14 | 25-34     | 120+      | 20-29     | 0         |  1        |\n",
       "| 18 | 35-44     | 0-39g/day | 20-29     | 0         |  7        |\n",
       "| 22 | 35-44     | 40-79     | 20-29     | 1         | 14        |\n",
       "| 26 | 35-44     | 80-119    | 20-29     | 0         |  2        |\n",
       "| 30 | 35-44     | 120+      | 20-29     | 2         |  4        |\n",
       "| 33 | 45-54     | 0-39g/day | 20-29     | 0         | 10        |\n",
       "| 37 | 45-54     | 40-79     | 20-29     | 5         | 15        |\n",
       "| 41 | 45-54     | 80-119    | 20-29     | 1         |  5        |\n",
       "| 45 | 45-54     | 120+      | 20-29     | 2         |  3        |\n",
       "| 49 | 55-64     | 0-39g/day | 20-29     | 3         | 12        |\n",
       "| 53 | 55-64     | 40-79     | 20-29     | 4         | 17        |\n",
       "| 57 | 55-64     | 80-119    | 20-29     | 3         |  6        |\n",
       "| 61 | 55-64     | 120+      | 20-29     | 2         |  3        |\n",
       "| 65 | 65-74     | 0-39g/day | 20-29     | 2         |  7        |\n",
       "| 69 | 65-74     | 40-79     | 20-29     | 5         |  9        |\n",
       "| 72 | 65-74     | 80-119    | 20-29     | 2         |  3        |\n",
       "| 76 | 65-74     | 120+      | 20-29     | 1         |  1        |\n",
       "| 83 | 75+       | 40-79     | 20-29     | 0         |  3        |\n",
       "\n"
      ],
      "text/plain": [
       "   agegp alcgp     tobgp ncases ncontrols\n",
       "3  25-34 0-39g/day 20-29 0       6       \n",
       "7  25-34 40-79     20-29 0       4       \n",
       "14 25-34 120+      20-29 0       1       \n",
       "18 35-44 0-39g/day 20-29 0       7       \n",
       "22 35-44 40-79     20-29 1      14       \n",
       "26 35-44 80-119    20-29 0       2       \n",
       "30 35-44 120+      20-29 2       4       \n",
       "33 45-54 0-39g/day 20-29 0      10       \n",
       "37 45-54 40-79     20-29 5      15       \n",
       "41 45-54 80-119    20-29 1       5       \n",
       "45 45-54 120+      20-29 2       3       \n",
       "49 55-64 0-39g/day 20-29 3      12       \n",
       "53 55-64 40-79     20-29 4      17       \n",
       "57 55-64 80-119    20-29 3       6       \n",
       "61 55-64 120+      20-29 2       3       \n",
       "65 65-74 0-39g/day 20-29 2       7       \n",
       "69 65-74 40-79     20-29 5       9       \n",
       "72 65-74 80-119    20-29 2       3       \n",
       "76 65-74 120+      20-29 1       1       \n",
       "83 75+   40-79     20-29 0       3       "
      ]
     },
     "metadata": {},
     "output_type": "display_data"
    }
   ],
   "source": [
    "tobgp2029_data <- esoph[which(esoph[,\"tobgp\"] == \"20-29\"),]\n",
    "tobgp2029_data"
   ]
  },
  {
   "cell_type": "markdown",
   "id": "89af9657-b545-4318-8034-208601071ba3",
   "metadata": {},
   "source": [
    "#### Plotting the number of entries in this tobacco group per age group."
   ]
  },
  {
   "cell_type": "code",
   "execution_count": 32,
   "id": "5e7d0d2c-8881-4305-9d18-06914ba94268",
   "metadata": {},
   "outputs": [
    {
     "data": {
      "image/png": "[encoded data removed]",
      "text/plain": [
       "plot without title"
      ]
     },
     "metadata": {},
     "output_type": "display_data"
    }
   ],
   "source": [
    "ggplot(tobgp2029_data, aes(x = agegp)) + geom_bar(fill = \"cornflowerblue\",\n",
    "                                           color=\"black\") + labs(x = \"Age Group\", \n",
    "                                                                 y = \"Number\", \n",
    "                                                                 title = \"Entries in Tobacco Group 20-29 per Age Group\")"
   ]
  },
  {
   "cell_type": "markdown",
   "id": "c3199dab-67c2-4f57-80e4-dd80292c7f47",
   "metadata": {},
   "source": [
    "#### Plotting the number of entries in this tobacco group per alcohol group."
   ]
  },
  {
   "cell_type": "code",
   "execution_count": 34,
   "id": "b4ead107-d7e4-481d-a219-1c957f4dcffa",
   "metadata": {},
   "outputs": [
    {
     "data": {
      "image/png": "[encoded data removed]",
      "text/plain": [
       "plot without title"
      ]
     },
     "metadata": {},
     "output_type": "display_data"
    }
   ],
   "source": [
    "ggplot(tobgp2029_data, aes(x = alcgp)) + geom_bar(fill = \"cornflowerblue\",\n",
    "                                           color=\"black\") + labs(x = \"Alcohol Group\", \n",
    "                                                                 y = \"Number\", \n",
    "                                                                 title = \"Entries in Tobacco Group 20-29 by Alcohol Group\")"
   ]
  },
  {
   "cell_type": "markdown",
   "id": "ed4204ad-9039-4013-b4c2-825b53ce7cf6",
   "metadata": {},
   "source": [
    "#### Find the entries in Tobacco Group 20-29 with at least one case of cancer."
   ]
  },
  {
   "cell_type": "code",
   "execution_count": 35,
   "id": "f0d41954-a3d1-42fb-8646-45fc3c5a9852",
   "metadata": {},
   "outputs": [
    {
     "data": {
      "text/html": [
       "<table>\n",
       "<thead><tr><th></th><th scope=col>agegp</th><th scope=col>alcgp</th><th scope=col>tobgp</th><th scope=col>ncases</th><th scope=col>ncontrols</th></tr></thead>\n",
       "<tbody>\n",
       "\t<tr><th scope=row>22</th><td>35-44    </td><td>40-79    </td><td>20-29    </td><td>1        </td><td>14       </td></tr>\n",
       "\t<tr><th scope=row>30</th><td>35-44    </td><td>120+     </td><td>20-29    </td><td>2        </td><td> 4       </td></tr>\n",
       "\t<tr><th scope=row>37</th><td>45-54    </td><td>40-79    </td><td>20-29    </td><td>5        </td><td>15       </td></tr>\n",
       "\t<tr><th scope=row>41</th><td>45-54    </td><td>80-119   </td><td>20-29    </td><td>1        </td><td> 5       </td></tr>\n",
       "\t<tr><th scope=row>45</th><td>45-54    </td><td>120+     </td><td>20-29    </td><td>2        </td><td> 3       </td></tr>\n",
       "\t<tr><th scope=row>49</th><td>55-64    </td><td>0-39g/day</td><td>20-29    </td><td>3        </td><td>12       </td></tr>\n",
       "\t<tr><th scope=row>53</th><td>55-64    </td><td>40-79    </td><td>20-29    </td><td>4        </td><td>17       </td></tr>\n",
       "\t<tr><th scope=row>57</th><td>55-64    </td><td>80-119   </td><td>20-29    </td><td>3        </td><td> 6       </td></tr>\n",
       "\t<tr><th scope=row>61</th><td>55-64    </td><td>120+     </td><td>20-29    </td><td>2        </td><td> 3       </td></tr>\n",
       "\t<tr><th scope=row>65</th><td>65-74    </td><td>0-39g/day</td><td>20-29    </td><td>2        </td><td> 7       </td></tr>\n",
       "\t<tr><th scope=row>69</th><td>65-74    </td><td>40-79    </td><td>20-29    </td><td>5        </td><td> 9       </td></tr>\n",
       "\t<tr><th scope=row>72</th><td>65-74    </td><td>80-119   </td><td>20-29    </td><td>2        </td><td> 3       </td></tr>\n",
       "\t<tr><th scope=row>76</th><td>65-74    </td><td>120+     </td><td>20-29    </td><td>1        </td><td> 1       </td></tr>\n",
       "</tbody>\n",
       "</table>\n"
      ],
      "text/latex": [
       "\\begin{tabular}{r|lllll}\n",
       "  & agegp & alcgp & tobgp & ncases & ncontrols\\\\\n",
       "\\hline\n",
       "\t22 & 35-44     & 40-79     & 20-29     & 1         & 14       \\\\\n",
       "\t30 & 35-44     & 120+      & 20-29     & 2         &  4       \\\\\n",
       "\t37 & 45-54     & 40-79     & 20-29     & 5         & 15       \\\\\n",
       "\t41 & 45-54     & 80-119    & 20-29     & 1         &  5       \\\\\n",
       "\t45 & 45-54     & 120+      & 20-29     & 2         &  3       \\\\\n",
       "\t49 & 55-64     & 0-39g/day & 20-29     & 3         & 12       \\\\\n",
       "\t53 & 55-64     & 40-79     & 20-29     & 4         & 17       \\\\\n",
       "\t57 & 55-64     & 80-119    & 20-29     & 3         &  6       \\\\\n",
       "\t61 & 55-64     & 120+      & 20-29     & 2         &  3       \\\\\n",
       "\t65 & 65-74     & 0-39g/day & 20-29     & 2         &  7       \\\\\n",
       "\t69 & 65-74     & 40-79     & 20-29     & 5         &  9       \\\\\n",
       "\t72 & 65-74     & 80-119    & 20-29     & 2         &  3       \\\\\n",
       "\t76 & 65-74     & 120+      & 20-29     & 1         &  1       \\\\\n",
       "\\end{tabular}\n"
      ],
      "text/markdown": [
       "\n",
       "| <!--/--> | agegp | alcgp | tobgp | ncases | ncontrols |\n",
       "|---|---|---|---|---|---|\n",
       "| 22 | 35-44     | 40-79     | 20-29     | 1         | 14        |\n",
       "| 30 | 35-44     | 120+      | 20-29     | 2         |  4        |\n",
       "| 37 | 45-54     | 40-79     | 20-29     | 5         | 15        |\n",
       "| 41 | 45-54     | 80-119    | 20-29     | 1         |  5        |\n",
       "| 45 | 45-54     | 120+      | 20-29     | 2         |  3        |\n",
       "| 49 | 55-64     | 0-39g/day | 20-29     | 3         | 12        |\n",
       "| 53 | 55-64     | 40-79     | 20-29     | 4         | 17        |\n",
       "| 57 | 55-64     | 80-119    | 20-29     | 3         |  6        |\n",
       "| 61 | 55-64     | 120+      | 20-29     | 2         |  3        |\n",
       "| 65 | 65-74     | 0-39g/day | 20-29     | 2         |  7        |\n",
       "| 69 | 65-74     | 40-79     | 20-29     | 5         |  9        |\n",
       "| 72 | 65-74     | 80-119    | 20-29     | 2         |  3        |\n",
       "| 76 | 65-74     | 120+      | 20-29     | 1         |  1        |\n",
       "\n"
      ],
      "text/plain": [
       "   agegp alcgp     tobgp ncases ncontrols\n",
       "22 35-44 40-79     20-29 1      14       \n",
       "30 35-44 120+      20-29 2       4       \n",
       "37 45-54 40-79     20-29 5      15       \n",
       "41 45-54 80-119    20-29 1       5       \n",
       "45 45-54 120+      20-29 2       3       \n",
       "49 55-64 0-39g/day 20-29 3      12       \n",
       "53 55-64 40-79     20-29 4      17       \n",
       "57 55-64 80-119    20-29 3       6       \n",
       "61 55-64 120+      20-29 2       3       \n",
       "65 65-74 0-39g/day 20-29 2       7       \n",
       "69 65-74 40-79     20-29 5       9       \n",
       "72 65-74 80-119    20-29 2       3       \n",
       "76 65-74 120+      20-29 1       1       "
      ]
     },
     "metadata": {},
     "output_type": "display_data"
    }
   ],
   "source": [
    "tobgp2029withcases_data <- tobgp2029_data[which(tobgp2029_data[,\"ncases\"] >= 1),]\n",
    "tobgp2029withcases_data"
   ]
  },
  {
   "cell_type": "markdown",
   "id": "38c47e64-392c-4f1f-993a-0ed79b4dcb3f",
   "metadata": {},
   "source": [
    "#### Display them by age group."
   ]
  },
  {
   "cell_type": "code",
   "execution_count": 38,
   "id": "6a9e6c2b-0ab5-4e2f-9f0e-59c93bd842fd",
   "metadata": {},
   "outputs": [
    {
     "data": {
      "image/png": "[encoded data removed]",
      "text/plain": [
       "plot without title"
      ]
     },
     "metadata": {},
     "output_type": "display_data"
    }
   ],
   "source": [
    "ggplot(tobgp2029withcases_data, aes(x = agegp)) + geom_bar(fill = \"cornflowerblue\",\n",
    "                                           color=\"black\") + labs(x = \"Age Group\", \n",
    "                                                                 y = \"Number\", \n",
    "                                                                 title = \"Entries in Tobacco Group 20-29 with at least one case of cancer per Age Group\")"
   ]
  },
  {
   "cell_type": "markdown",
   "id": "d8923139-e472-4b2b-b1e5-292bf3176d59",
   "metadata": {},
   "source": [
    "#### Do the same for Tobacco Group 30+, so you could compare them."
   ]
  },
  {
   "cell_type": "code",
   "execution_count": 40,
   "id": "9ca84c1b-32a3-4d72-a3f6-57b0a8e67701",
   "metadata": {},
   "outputs": [
    {
     "data": {
      "text/html": [
       "<table>\n",
       "<thead><tr><th></th><th scope=col>agegp</th><th scope=col>alcgp</th><th scope=col>tobgp</th><th scope=col>ncases</th><th scope=col>ncontrols</th></tr></thead>\n",
       "<tbody>\n",
       "\t<tr><th scope=row>4</th><td>25-34    </td><td>0-39g/day</td><td>30+      </td><td>0        </td><td>5        </td></tr>\n",
       "\t<tr><th scope=row>8</th><td>25-34    </td><td>40-79    </td><td>30+      </td><td>0        </td><td>7        </td></tr>\n",
       "\t<tr><th scope=row>11</th><td>25-34    </td><td>80-119   </td><td>30+      </td><td>0        </td><td>2        </td></tr>\n",
       "\t<tr><th scope=row>15</th><td>25-34    </td><td>120+     </td><td>30+      </td><td>0        </td><td>2        </td></tr>\n",
       "\t<tr><th scope=row>19</th><td>35-44    </td><td>0-39g/day</td><td>30+      </td><td>0        </td><td>8        </td></tr>\n",
       "\t<tr><th scope=row>23</th><td>35-44    </td><td>40-79    </td><td>30+      </td><td>0        </td><td>8        </td></tr>\n",
       "\t<tr><th scope=row>27</th><td>35-44    </td><td>80-119   </td><td>30+      </td><td>0        </td><td>1        </td></tr>\n",
       "\t<tr><th scope=row>34</th><td>45-54    </td><td>0-39g/day</td><td>30+      </td><td>0        </td><td>4        </td></tr>\n",
       "\t<tr><th scope=row>38</th><td>45-54    </td><td>40-79    </td><td>30+      </td><td>5        </td><td>7        </td></tr>\n",
       "\t<tr><th scope=row>42</th><td>45-54    </td><td>80-119   </td><td>30+      </td><td>2        </td><td>4        </td></tr>\n",
       "\t<tr><th scope=row>46</th><td>45-54    </td><td>120+     </td><td>30+      </td><td>4        </td><td>4        </td></tr>\n",
       "\t<tr><th scope=row>50</th><td>55-64    </td><td>0-39g/day</td><td>30+      </td><td>4        </td><td>6        </td></tr>\n",
       "\t<tr><th scope=row>54</th><td>55-64    </td><td>40-79    </td><td>30+      </td><td>3        </td><td>6        </td></tr>\n",
       "\t<tr><th scope=row>58</th><td>55-64    </td><td>80-119   </td><td>30+      </td><td>4        </td><td>4        </td></tr>\n",
       "\t<tr><th scope=row>62</th><td>55-64    </td><td>120+     </td><td>30+      </td><td>5        </td><td>6        </td></tr>\n",
       "\t<tr><th scope=row>66</th><td>65-74    </td><td>0-39g/day</td><td>30+      </td><td>0        </td><td>2        </td></tr>\n",
       "\t<tr><th scope=row>73</th><td>65-74    </td><td>80-119   </td><td>30+      </td><td>1        </td><td>1        </td></tr>\n",
       "\t<tr><th scope=row>77</th><td>65-74    </td><td>120+     </td><td>30+      </td><td>1        </td><td>1        </td></tr>\n",
       "\t<tr><th scope=row>80</th><td>75+      </td><td>0-39g/day</td><td>30+      </td><td>1        </td><td>3        </td></tr>\n",
       "\t<tr><th scope=row>84</th><td>75+      </td><td>40-79    </td><td>30+      </td><td>1        </td><td>1        </td></tr>\n",
       "</tbody>\n",
       "</table>\n"
      ],
      "text/latex": [
       "\\begin{tabular}{r|lllll}\n",
       "  & agegp & alcgp & tobgp & ncases & ncontrols\\\\\n",
       "\\hline\n",
       "\t4 & 25-34     & 0-39g/day & 30+       & 0         & 5        \\\\\n",
       "\t8 & 25-34     & 40-79     & 30+       & 0         & 7        \\\\\n",
       "\t11 & 25-34     & 80-119    & 30+       & 0         & 2        \\\\\n",
       "\t15 & 25-34     & 120+      & 30+       & 0         & 2        \\\\\n",
       "\t19 & 35-44     & 0-39g/day & 30+       & 0         & 8        \\\\\n",
       "\t23 & 35-44     & 40-79     & 30+       & 0         & 8        \\\\\n",
       "\t27 & 35-44     & 80-119    & 30+       & 0         & 1        \\\\\n",
       "\t34 & 45-54     & 0-39g/day & 30+       & 0         & 4        \\\\\n",
       "\t38 & 45-54     & 40-79     & 30+       & 5         & 7        \\\\\n",
       "\t42 & 45-54     & 80-119    & 30+       & 2         & 4        \\\\\n",
       "\t46 & 45-54     & 120+      & 30+       & 4         & 4        \\\\\n",
       "\t50 & 55-64     & 0-39g/day & 30+       & 4         & 6        \\\\\n",
       "\t54 & 55-64     & 40-79     & 30+       & 3         & 6        \\\\\n",
       "\t58 & 55-64     & 80-119    & 30+       & 4         & 4        \\\\\n",
       "\t62 & 55-64     & 120+      & 30+       & 5         & 6        \\\\\n",
       "\t66 & 65-74     & 0-39g/day & 30+       & 0         & 2        \\\\\n",
       "\t73 & 65-74     & 80-119    & 30+       & 1         & 1        \\\\\n",
       "\t77 & 65-74     & 120+      & 30+       & 1         & 1        \\\\\n",
       "\t80 & 75+       & 0-39g/day & 30+       & 1         & 3        \\\\\n",
       "\t84 & 75+       & 40-79     & 30+       & 1         & 1        \\\\\n",
       "\\end{tabular}\n"
      ],
      "text/markdown": [
       "\n",
       "| <!--/--> | agegp | alcgp | tobgp | ncases | ncontrols |\n",
       "|---|---|---|---|---|---|\n",
       "| 4 | 25-34     | 0-39g/day | 30+       | 0         | 5         |\n",
       "| 8 | 25-34     | 40-79     | 30+       | 0         | 7         |\n",
       "| 11 | 25-34     | 80-119    | 30+       | 0         | 2         |\n",
       "| 15 | 25-34     | 120+      | 30+       | 0         | 2         |\n",
       "| 19 | 35-44     | 0-39g/day | 30+       | 0         | 8         |\n",
       "| 23 | 35-44     | 40-79     | 30+       | 0         | 8         |\n",
       "| 27 | 35-44     | 80-119    | 30+       | 0         | 1         |\n",
       "| 34 | 45-54     | 0-39g/day | 30+       | 0         | 4         |\n",
       "| 38 | 45-54     | 40-79     | 30+       | 5         | 7         |\n",
       "| 42 | 45-54     | 80-119    | 30+       | 2         | 4         |\n",
       "| 46 | 45-54     | 120+      | 30+       | 4         | 4         |\n",
       "| 50 | 55-64     | 0-39g/day | 30+       | 4         | 6         |\n",
       "| 54 | 55-64     | 40-79     | 30+       | 3         | 6         |\n",
       "| 58 | 55-64     | 80-119    | 30+       | 4         | 4         |\n",
       "| 62 | 55-64     | 120+      | 30+       | 5         | 6         |\n",
       "| 66 | 65-74     | 0-39g/day | 30+       | 0         | 2         |\n",
       "| 73 | 65-74     | 80-119    | 30+       | 1         | 1         |\n",
       "| 77 | 65-74     | 120+      | 30+       | 1         | 1         |\n",
       "| 80 | 75+       | 0-39g/day | 30+       | 1         | 3         |\n",
       "| 84 | 75+       | 40-79     | 30+       | 1         | 1         |\n",
       "\n"
      ],
      "text/plain": [
       "   agegp alcgp     tobgp ncases ncontrols\n",
       "4  25-34 0-39g/day 30+   0      5        \n",
       "8  25-34 40-79     30+   0      7        \n",
       "11 25-34 80-119    30+   0      2        \n",
       "15 25-34 120+      30+   0      2        \n",
       "19 35-44 0-39g/day 30+   0      8        \n",
       "23 35-44 40-79     30+   0      8        \n",
       "27 35-44 80-119    30+   0      1        \n",
       "34 45-54 0-39g/day 30+   0      4        \n",
       "38 45-54 40-79     30+   5      7        \n",
       "42 45-54 80-119    30+   2      4        \n",
       "46 45-54 120+      30+   4      4        \n",
       "50 55-64 0-39g/day 30+   4      6        \n",
       "54 55-64 40-79     30+   3      6        \n",
       "58 55-64 80-119    30+   4      4        \n",
       "62 55-64 120+      30+   5      6        \n",
       "66 65-74 0-39g/day 30+   0      2        \n",
       "73 65-74 80-119    30+   1      1        \n",
       "77 65-74 120+      30+   1      1        \n",
       "80 75+   0-39g/day 30+   1      3        \n",
       "84 75+   40-79     30+   1      1        "
      ]
     },
     "metadata": {},
     "output_type": "display_data"
    },
    {
     "data": {
      "text/html": [
       "<table>\n",
       "<thead><tr><th></th><th scope=col>agegp</th><th scope=col>alcgp</th><th scope=col>tobgp</th><th scope=col>ncases</th><th scope=col>ncontrols</th></tr></thead>\n",
       "<tbody>\n",
       "\t<tr><th scope=row>38</th><td>45-54    </td><td>40-79    </td><td>30+      </td><td>5        </td><td>7        </td></tr>\n",
       "\t<tr><th scope=row>42</th><td>45-54    </td><td>80-119   </td><td>30+      </td><td>2        </td><td>4        </td></tr>\n",
       "\t<tr><th scope=row>46</th><td>45-54    </td><td>120+     </td><td>30+      </td><td>4        </td><td>4        </td></tr>\n",
       "\t<tr><th scope=row>50</th><td>55-64    </td><td>0-39g/day</td><td>30+      </td><td>4        </td><td>6        </td></tr>\n",
       "\t<tr><th scope=row>54</th><td>55-64    </td><td>40-79    </td><td>30+      </td><td>3        </td><td>6        </td></tr>\n",
       "\t<tr><th scope=row>58</th><td>55-64    </td><td>80-119   </td><td>30+      </td><td>4        </td><td>4        </td></tr>\n",
       "\t<tr><th scope=row>62</th><td>55-64    </td><td>120+     </td><td>30+      </td><td>5        </td><td>6        </td></tr>\n",
       "\t<tr><th scope=row>73</th><td>65-74    </td><td>80-119   </td><td>30+      </td><td>1        </td><td>1        </td></tr>\n",
       "\t<tr><th scope=row>77</th><td>65-74    </td><td>120+     </td><td>30+      </td><td>1        </td><td>1        </td></tr>\n",
       "\t<tr><th scope=row>80</th><td>75+      </td><td>0-39g/day</td><td>30+      </td><td>1        </td><td>3        </td></tr>\n",
       "\t<tr><th scope=row>84</th><td>75+      </td><td>40-79    </td><td>30+      </td><td>1        </td><td>1        </td></tr>\n",
       "</tbody>\n",
       "</table>\n"
      ],
      "text/latex": [
       "\\begin{tabular}{r|lllll}\n",
       "  & agegp & alcgp & tobgp & ncases & ncontrols\\\\\n",
       "\\hline\n",
       "\t38 & 45-54     & 40-79     & 30+       & 5         & 7        \\\\\n",
       "\t42 & 45-54     & 80-119    & 30+       & 2         & 4        \\\\\n",
       "\t46 & 45-54     & 120+      & 30+       & 4         & 4        \\\\\n",
       "\t50 & 55-64     & 0-39g/day & 30+       & 4         & 6        \\\\\n",
       "\t54 & 55-64     & 40-79     & 30+       & 3         & 6        \\\\\n",
       "\t58 & 55-64     & 80-119    & 30+       & 4         & 4        \\\\\n",
       "\t62 & 55-64     & 120+      & 30+       & 5         & 6        \\\\\n",
       "\t73 & 65-74     & 80-119    & 30+       & 1         & 1        \\\\\n",
       "\t77 & 65-74     & 120+      & 30+       & 1         & 1        \\\\\n",
       "\t80 & 75+       & 0-39g/day & 30+       & 1         & 3        \\\\\n",
       "\t84 & 75+       & 40-79     & 30+       & 1         & 1        \\\\\n",
       "\\end{tabular}\n"
      ],
      "text/markdown": [
       "\n",
       "| <!--/--> | agegp | alcgp | tobgp | ncases | ncontrols |\n",
       "|---|---|---|---|---|---|\n",
       "| 38 | 45-54     | 40-79     | 30+       | 5         | 7         |\n",
       "| 42 | 45-54     | 80-119    | 30+       | 2         | 4         |\n",
       "| 46 | 45-54     | 120+      | 30+       | 4         | 4         |\n",
       "| 50 | 55-64     | 0-39g/day | 30+       | 4         | 6         |\n",
       "| 54 | 55-64     | 40-79     | 30+       | 3         | 6         |\n",
       "| 58 | 55-64     | 80-119    | 30+       | 4         | 4         |\n",
       "| 62 | 55-64     | 120+      | 30+       | 5         | 6         |\n",
       "| 73 | 65-74     | 80-119    | 30+       | 1         | 1         |\n",
       "| 77 | 65-74     | 120+      | 30+       | 1         | 1         |\n",
       "| 80 | 75+       | 0-39g/day | 30+       | 1         | 3         |\n",
       "| 84 | 75+       | 40-79     | 30+       | 1         | 1         |\n",
       "\n"
      ],
      "text/plain": [
       "   agegp alcgp     tobgp ncases ncontrols\n",
       "38 45-54 40-79     30+   5      7        \n",
       "42 45-54 80-119    30+   2      4        \n",
       "46 45-54 120+      30+   4      4        \n",
       "50 55-64 0-39g/day 30+   4      6        \n",
       "54 55-64 40-79     30+   3      6        \n",
       "58 55-64 80-119    30+   4      4        \n",
       "62 55-64 120+      30+   5      6        \n",
       "73 65-74 80-119    30+   1      1        \n",
       "77 65-74 120+      30+   1      1        \n",
       "80 75+   0-39g/day 30+   1      3        \n",
       "84 75+   40-79     30+   1      1        "
      ]
     },
     "metadata": {},
     "output_type": "display_data"
    },
    {
     "data": {
      "image/png": "[encoded data removed]",
      "text/plain": [
       "plot without title"
      ]
     },
     "metadata": {},
     "output_type": "display_data"
    },
    {
     "data": {
      "image/png": "[encoded data removed]",
      "text/plain": [
       "plot without title"
      ]
     },
     "metadata": {},
     "output_type": "display_data"
    }
   ],
   "source": [
    "tobgp30_data <- esoph[which(esoph[,\"tobgp\"] == \"30+\"),]\n",
    "tobgp30_data\n",
    "ggplot(tobgp30_data, aes(x = alcgp)) + geom_bar(fill = \"cornflowerblue\",\n",
    "                                           color=\"black\") + labs(x = \"Alcohol Group\", \n",
    "                                                                 y = \"Number\", \n",
    "                                                                 title = \"Entries in Tobacco Group 30+ by Alcohol Group\")\n",
    "tobgp30withcases_data <- tobgp30_data[which(tobgp30_data[,\"ncases\"] >= 1),]\n",
    "tobgp30withcases_data\n",
    "ggplot(tobgp30withcases_data, aes(x = agegp)) + geom_bar(fill = \"cornflowerblue\",\n",
    "                                           color=\"black\") + labs(x = \"Age Group\", \n",
    "                                                                 y = \"Number\", \n",
    "                                                                 title = \"Entries in Tobacco Group 30+ with at least one case of cancer per Age Group\")"
   ]
  }
 ],
 "metadata": {
  "kernelspec": {
   "display_name": "R",
   "language": "R",
   "name": "ir"
  },
  "language_info": {
   "codemirror_mode": "r",
   "file_extension": ".r",
   "mimetype": "text/x-r-source",
   "name": "R",
   "pygments_lexer": "r",
   "version": "3.6.1"
  }
 },
 "nbformat": 4,
 "nbformat_minor": 5
}
