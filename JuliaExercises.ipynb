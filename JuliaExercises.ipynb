{
 "cells": [
  {
   "cell_type": "markdown",
   "id": "cea8045e-e4c5-412d-b96a-9b1ed743b680",
   "metadata": {},
   "source": [
    "![Logo](Technikklein.png)\n",
    "\n",
    "# Task 4: R and Julia Data Science (Part 2: Julia)\n",
    "### Data Science\n",
    "\n",
    "\n",
    "##### Dozent: Prof. Dr. Stefan Edlich\n",
    "##### Medieninformatik\n",
    "##### Hochschule Emden/Leer\n",
    "##### Sommersemester 2021\n",
    "   \n",
    "_____\n"
   ]
  },
  {
   "cell_type": "markdown",
   "id": "9451fc48-7722-4701-9bd4-551e3f148022",
   "metadata": {},
   "source": [
    "### Ex. 1: Create a 2x4 two dimensional matrix with random floats in it and in the next step determine the biggest element."
   ]
  },
  {
   "cell_type": "markdown",
   "id": "3dcf42b2-8ad6-4749-a0df-f5acc3d6bb1a",
   "metadata": {},
   "source": [
    "#### a) Creating the matrix."
   ]
  },
  {
   "cell_type": "code",
   "execution_count": 37,
   "id": "3d448a05-e048-4cc8-b3c4-90bea1823639",
   "metadata": {},
   "outputs": [
    {
     "data": {
      "text/plain": [
       "2×4 Matrix{Float64}:\n",
       " 0.907521  0.737308  0.190333  0.97641\n",
       " 0.957292  0.200169  0.737285  0.682795"
      ]
     },
     "execution_count": 37,
     "metadata": {},
     "output_type": "execute_result"
    }
   ],
   "source": [
    "M = rand(2, 4)\n",
    "M"
   ]
  },
  {
   "cell_type": "markdown",
   "id": "aa0e0185-f988-4ff5-a1b0-5986353da523",
   "metadata": {},
   "source": [
    "#### b) Find the biggest element."
   ]
  },
  {
   "cell_type": "code",
   "execution_count": 38,
   "id": "1d881f64-a788-4e82-a941-487604fff775",
   "metadata": {},
   "outputs": [
    {
     "data": {
      "text/plain": [
       "(0.976410406607477, CartesianIndex(1, 4))"
      ]
     },
     "execution_count": 38,
     "metadata": {},
     "output_type": "execute_result"
    }
   ],
   "source": [
    "findmax(M)"
   ]
  },
  {
   "cell_type": "markdown",
   "id": "e29df16c-ff17-40b2-9f99-d627f1f5da52",
   "metadata": {},
   "source": [
    "### Ex. 2:\n",
    "#### 1. Create two matrices of the same layout and test if addition and subtraction of the matrix works as expected: C = A + B."
   ]
  },
  {
   "cell_type": "code",
   "execution_count": 16,
   "id": "bc63cf86-db6c-41ee-a7ce-e7a6c7341f1b",
   "metadata": {},
   "outputs": [
    {
     "data": {
      "text/plain": [
       "3×3 Matrix{Int64}:\n",
       "  3  6  4\n",
       "  9  3  9\n",
       " 10  3  1"
      ]
     },
     "execution_count": 16,
     "metadata": {},
     "output_type": "execute_result"
    }
   ],
   "source": [
    "A = rand(1:10, 3, 3)"
   ]
  },
  {
   "cell_type": "code",
   "execution_count": 17,
   "id": "ef1b7e9f-ba9f-4765-b519-dbac3ea4cde9",
   "metadata": {},
   "outputs": [
    {
     "data": {
      "text/plain": [
       "3×3 Matrix{Int64}:\n",
       "  1  10  8\n",
       "  5   4  8\n",
       " 10   3  7"
      ]
     },
     "execution_count": 17,
     "metadata": {},
     "output_type": "execute_result"
    }
   ],
   "source": [
    "B = rand(1:10, 3, 3)"
   ]
  },
  {
   "cell_type": "code",
   "execution_count": 18,
   "id": "1cded4a9-b9ab-4dee-8760-d539bf5fbe12",
   "metadata": {},
   "outputs": [
    {
     "data": {
      "text/plain": [
       "3×3 Matrix{Int64}:\n",
       "  4  16  12\n",
       " 14   7  17\n",
       " 20   6   8"
      ]
     },
     "execution_count": 18,
     "metadata": {},
     "output_type": "execute_result"
    }
   ],
   "source": [
    "C = A+B"
   ]
  },
  {
   "cell_type": "markdown",
   "id": "78ea86b3-8a2f-4c1a-b060-c1c0f6f23980",
   "metadata": {},
   "source": [
    "Yes, checks out. :)"
   ]
  },
  {
   "cell_type": "markdown",
   "id": "198b6fee-aef8-49ec-92a8-652d0563a155",
   "metadata": {},
   "source": [
    "#### 2. Now compare matrix multiplication either this way A * B and this way A .* B. Whats the difference?!"
   ]
  },
  {
   "cell_type": "code",
   "execution_count": 22,
   "id": "df6688a1-3751-4e44-843a-2fc6651e9db4",
   "metadata": {},
   "outputs": [
    {
     "data": {
      "text/plain": [
       "3×3 Matrix{Int64}:\n",
       "  73   66  100\n",
       " 114  129  159\n",
       "  35  115  111"
      ]
     },
     "execution_count": 22,
     "metadata": {},
     "output_type": "execute_result"
    }
   ],
   "source": [
    "D = A * B"
   ]
  },
  {
   "cell_type": "code",
   "execution_count": 21,
   "id": "20bb1009-6e6f-4b66-98d6-bb2f6d2d95db",
   "metadata": {},
   "outputs": [
    {
     "data": {
      "text/plain": [
       "3×3 Matrix{Int64}:\n",
       "   3  60  32\n",
       "  45  12  72\n",
       " 100   9   7"
      ]
     },
     "execution_count": 21,
     "metadata": {},
     "output_type": "execute_result"
    }
   ],
   "source": [
    "E = A .* B"
   ]
  },
  {
   "cell_type": "markdown",
   "id": "bc40f359-1542-44df-a649-1a7b2b983e64",
   "metadata": {},
   "source": [
    "`A * B` performs a real matrix multiplication, while `A .* B` performs an element-wise multiplication of the elements at the same indizes of the matrices."
   ]
  },
  {
   "cell_type": "markdown",
   "id": "8d8c9252-b714-477c-b04e-6497e0b29b00",
   "metadata": {},
   "source": [
    "#### 3. What about matrix division with \"/\" or \"\\\\\"?!"
   ]
  },
  {
   "cell_type": "code",
   "execution_count": 23,
   "id": "5eef003a-f03f-49cd-9876-56a6b4611803",
   "metadata": {},
   "outputs": [
    {
     "data": {
      "text/plain": [
       "3×3 Matrix{Float64}:\n",
       "  0.716535  -0.740157  0.598425\n",
       " -0.212598   0.944882  0.448819\n",
       "  0.590551  -2.29134   2.08661"
      ]
     },
     "execution_count": 23,
     "metadata": {},
     "output_type": "execute_result"
    }
   ],
   "source": [
    "F = A / B"
   ]
  },
  {
   "cell_type": "markdown",
   "id": "f9ad42e3-7e60-4158-a287-d812625f8e78",
   "metadata": {},
   "source": [
    "Check if you can reproduce the original matrices from this. (It is: `A = (A / B) * B`.)"
   ]
  },
  {
   "cell_type": "code",
   "execution_count": 34,
   "id": "97467ae4-3357-4bd3-b769-dbe612da8211",
   "metadata": {},
   "outputs": [
    {
     "data": {
      "text/plain": [
       "3×3 Matrix{Float64}:\n",
       "  3.23622   -5.71654  12.8346\n",
       " 11.126    -24.4488   25.5118\n",
       "  7.11811   -6.85827   9.41732"
      ]
     },
     "execution_count": 34,
     "metadata": {},
     "output_type": "execute_result"
    }
   ],
   "source": [
    "A * F"
   ]
  },
  {
   "cell_type": "code",
   "execution_count": 26,
   "id": "5b8ffaf6-8e3e-4af4-aae1-46985ba8bdc9",
   "metadata": {},
   "outputs": [
    {
     "data": {
      "text/plain": [
       "3×3 Matrix{Float64}:\n",
       "  3.0  6.0  4.0\n",
       "  9.0  3.0  9.0\n",
       " 10.0  3.0  1.0"
      ]
     },
     "execution_count": 26,
     "metadata": {},
     "output_type": "execute_result"
    }
   ],
   "source": [
    "F * B"
   ]
  },
  {
   "cell_type": "code",
   "execution_count": 24,
   "id": "f56debfc-4bdb-4b22-9f6f-f9cb55c4b533",
   "metadata": {},
   "outputs": [
    {
     "data": {
      "text/plain": [
       "3×3 Matrix{Float64}:\n",
       "  1.0597     -0.223881   0.373134\n",
       " -0.0348259   1.71393    1.03234\n",
       " -0.492537    0.0970149  0.171642"
      ]
     },
     "execution_count": 24,
     "metadata": {},
     "output_type": "execute_result"
    }
   ],
   "source": [
    "G = A \\ B"
   ]
  },
  {
   "cell_type": "markdown",
   "id": "dc59649c-052b-46a1-817a-7d6dbb48a101",
   "metadata": {},
   "source": [
    "Check if you can reproduce the original matrices. (It is: `B = A * (A \\ B)`.)"
   ]
  },
  {
   "cell_type": "code",
   "execution_count": 32,
   "id": "515763c9-1b75-4109-8a29-4de3bfbbd214",
   "metadata": {},
   "outputs": [
    {
     "data": {
      "text/plain": [
       "3×3 Matrix{Float64}:\n",
       "  1.0  10.0  8.0\n",
       "  5.0   4.0  8.0\n",
       " 10.0   3.0  7.0"
      ]
     },
     "execution_count": 32,
     "metadata": {},
     "output_type": "execute_result"
    }
   ],
   "source": [
    "A * G"
   ]
  },
  {
   "cell_type": "code",
   "execution_count": 35,
   "id": "72dc383c-f799-4da8-b8cf-25e99776f393",
   "metadata": {},
   "outputs": [
    {
     "data": {
      "text/plain": [
       "3×3 Matrix{Float64}:\n",
       "  3.67164  10.8209    9.29851\n",
       " 18.8582    9.60448  20.6592\n",
       "  1.70896  -4.02239  -1.96269"
      ]
     },
     "execution_count": 35,
     "metadata": {},
     "output_type": "execute_result"
    }
   ],
   "source": [
    "G * B"
   ]
  },
  {
   "cell_type": "markdown",
   "id": "2458b7b2-fa0b-4f1a-9b89-535dfbaad0af",
   "metadata": {},
   "source": [
    "So, when you use `/`, you get the matrix that would be the multiplier to reproduce the left element of the division operation, or the dividend; when you use `\\`, you get the matrix that would be the multiplicand to reproduce the right element of the division operation, or the divisor."
   ]
  },
  {
   "cell_type": "markdown",
   "id": "de1edf98-c669-40e6-b557-6036587f05f1",
   "metadata": {},
   "source": [
    "#### 4. Create a 3x3 integer matrix A with useful numbers. Now try A+1, A-1, A*2, A/2."
   ]
  },
  {
   "cell_type": "code",
   "execution_count": 39,
   "id": "18c5e794-92cf-4178-a3c3-f8aef327b4dc",
   "metadata": {},
   "outputs": [
    {
     "data": {
      "text/plain": [
       "3×3 Matrix{Int64}:\n",
       " 3   9  7\n",
       " 7  10  1\n",
       " 9  10  7"
      ]
     },
     "execution_count": 39,
     "metadata": {},
     "output_type": "execute_result"
    }
   ],
   "source": [
    "A = rand(1:10, 3, 3)"
   ]
  },
  {
   "cell_type": "code",
   "execution_count": 49,
   "id": "47f82228-d7af-4000-b80f-666e1de11e79",
   "metadata": {},
   "outputs": [
    {
     "ename": "LoadError",
     "evalue": "MethodError: no method matching +(::Matrix{Int64}, ::Int64)\nFor element-wise addition, use broadcasting with dot syntax: array .+ scalar\n\u001b[0mClosest candidates are:\n\u001b[0m  +(::Any, ::Any, \u001b[91m::Any\u001b[39m, \u001b[91m::Any...\u001b[39m) at operators.jl:560\n\u001b[0m  +(\u001b[91m::T\u001b[39m, ::T) where T<:Union{Int128, Int16, Int32, Int64, Int8, UInt128, UInt16, UInt32, UInt64, UInt8} at int.jl:87\n\u001b[0m  +(\u001b[91m::LinearAlgebra.UniformScaling\u001b[39m, ::Number) at C:\\buildbot\\worker\\package_win64\\build\\usr\\share\\julia\\stdlib\\v1.6\\LinearAlgebra\\src\\uniformscaling.jl:145\n\u001b[0m  ...",
     "output_type": "error",
     "traceback": [
      "MethodError: no method matching +(::Matrix{Int64}, ::Int64)\nFor element-wise addition, use broadcasting with dot syntax: array .+ scalar\n\u001b[0mClosest candidates are:\n\u001b[0m  +(::Any, ::Any, \u001b[91m::Any\u001b[39m, \u001b[91m::Any...\u001b[39m) at operators.jl:560\n\u001b[0m  +(\u001b[91m::T\u001b[39m, ::T) where T<:Union{Int128, Int16, Int32, Int64, Int8, UInt128, UInt16, UInt32, UInt64, UInt8} at int.jl:87\n\u001b[0m  +(\u001b[91m::LinearAlgebra.UniformScaling\u001b[39m, ::Number) at C:\\buildbot\\worker\\package_win64\\build\\usr\\share\\julia\\stdlib\\v1.6\\LinearAlgebra\\src\\uniformscaling.jl:145\n\u001b[0m  ...",
      "",
      "Stacktrace:",
      " [1] top-level scope",
      "   @ In[49]:1",
      " [2] eval",
      "   @ .\\boot.jl:360 [inlined]",
      " [3] include_string(mapexpr::typeof(REPL.softscope), mod::Module, code::String, filename::String)",
      "   @ Base .\\loading.jl:1094"
     ]
    }
   ],
   "source": [
    "A + 1"
   ]
  },
  {
   "cell_type": "markdown",
   "id": "f5871e04-4e8a-46ca-81ad-c3b78ce52f6f",
   "metadata": {},
   "source": [
    "Doesn't work, trying the element-wise operation:"
   ]
  },
  {
   "cell_type": "code",
   "execution_count": 41,
   "id": "90309395-5b40-4d25-a574-697e3b5b9429",
   "metadata": {},
   "outputs": [
    {
     "data": {
      "text/plain": [
       "3×3 Matrix{Int64}:\n",
       "  4  10  8\n",
       "  8  11  2\n",
       " 10  11  8"
      ]
     },
     "execution_count": 41,
     "metadata": {},
     "output_type": "execute_result"
    }
   ],
   "source": [
    "A .+ 1"
   ]
  },
  {
   "cell_type": "code",
   "execution_count": 50,
   "id": "6ef6d967-207a-4466-b430-6367eb50743c",
   "metadata": {},
   "outputs": [
    {
     "ename": "LoadError",
     "evalue": "MethodError: no method matching -(::Matrix{Int64}, ::Int64)\nFor element-wise subtraction, use broadcasting with dot syntax: array .- scalar\n\u001b[0mClosest candidates are:\n\u001b[0m  -(\u001b[91m::T\u001b[39m, ::T) where T<:Union{Int128, Int16, Int32, Int64, Int8, UInt128, UInt16, UInt32, UInt64, UInt8} at int.jl:86\n\u001b[0m  -(\u001b[91m::LinearAlgebra.UniformScaling\u001b[39m, ::Number) at C:\\buildbot\\worker\\package_win64\\build\\usr\\share\\julia\\stdlib\\v1.6\\LinearAlgebra\\src\\uniformscaling.jl:147\n\u001b[0m  -(::Array, \u001b[91m::SparseArrays.AbstractSparseMatrixCSC\u001b[39m) at C:\\buildbot\\worker\\package_win64\\build\\usr\\share\\julia\\stdlib\\v1.6\\SparseArrays\\src\\sparsematrix.jl:1747\n\u001b[0m  ...",
     "output_type": "error",
     "traceback": [
      "MethodError: no method matching -(::Matrix{Int64}, ::Int64)\nFor element-wise subtraction, use broadcasting with dot syntax: array .- scalar\n\u001b[0mClosest candidates are:\n\u001b[0m  -(\u001b[91m::T\u001b[39m, ::T) where T<:Union{Int128, Int16, Int32, Int64, Int8, UInt128, UInt16, UInt32, UInt64, UInt8} at int.jl:86\n\u001b[0m  -(\u001b[91m::LinearAlgebra.UniformScaling\u001b[39m, ::Number) at C:\\buildbot\\worker\\package_win64\\build\\usr\\share\\julia\\stdlib\\v1.6\\LinearAlgebra\\src\\uniformscaling.jl:147\n\u001b[0m  -(::Array, \u001b[91m::SparseArrays.AbstractSparseMatrixCSC\u001b[39m) at C:\\buildbot\\worker\\package_win64\\build\\usr\\share\\julia\\stdlib\\v1.6\\SparseArrays\\src\\sparsematrix.jl:1747\n\u001b[0m  ...",
      "",
      "Stacktrace:",
      " [1] top-level scope",
      "   @ In[50]:1",
      " [2] eval",
      "   @ .\\boot.jl:360 [inlined]",
      " [3] include_string(mapexpr::typeof(REPL.softscope), mod::Module, code::String, filename::String)",
      "   @ Base .\\loading.jl:1094"
     ]
    }
   ],
   "source": [
    "A - 1"
   ]
  },
  {
   "cell_type": "markdown",
   "id": "0d08fd9d-0a2e-458f-8670-a2bf95ecdeea",
   "metadata": {},
   "source": [
    "Also doesn't work, using the element-wise operation as well:"
   ]
  },
  {
   "cell_type": "code",
   "execution_count": 51,
   "id": "2f790c81-9675-43d0-9470-a249275fe4cf",
   "metadata": {},
   "outputs": [
    {
     "data": {
      "text/plain": [
       "3×3 Matrix{Int64}:\n",
       " 2  8  6\n",
       " 6  9  0\n",
       " 8  9  6"
      ]
     },
     "execution_count": 51,
     "metadata": {},
     "output_type": "execute_result"
    }
   ],
   "source": [
    "A .- 1"
   ]
  },
  {
   "cell_type": "code",
   "execution_count": 52,
   "id": "2cdc24ce-8567-4b4a-9e04-411132b36395",
   "metadata": {},
   "outputs": [
    {
     "data": {
      "text/plain": [
       "3×3 Matrix{Int64}:\n",
       "  6  18  14\n",
       " 14  20   2\n",
       " 18  20  14"
      ]
     },
     "execution_count": 52,
     "metadata": {},
     "output_type": "execute_result"
    }
   ],
   "source": [
    "A * 2"
   ]
  },
  {
   "cell_type": "code",
   "execution_count": 53,
   "id": "baadca6b-0108-4010-b1c6-f49ad50baf69",
   "metadata": {},
   "outputs": [
    {
     "data": {
      "text/plain": [
       "3×3 Matrix{Float64}:\n",
       " 1.5  4.5  3.5\n",
       " 3.5  5.0  0.5\n",
       " 4.5  5.0  3.5"
      ]
     },
     "execution_count": 53,
     "metadata": {},
     "output_type": "execute_result"
    }
   ],
   "source": [
    "A / 2"
   ]
  },
  {
   "cell_type": "markdown",
   "id": "221f42fa-7fec-4231-879a-11eb75a11017",
   "metadata": {},
   "source": [
    "#### 5. Now multiply a 3x4 matrix with a suitable (4)vector"
   ]
  },
  {
   "cell_type": "code",
   "execution_count": 54,
   "id": "a9798f64-b942-4655-b2da-6dce4a498ad1",
   "metadata": {},
   "outputs": [
    {
     "data": {
      "text/plain": [
       "3×4 Matrix{Int64}:\n",
       " 5   6  1  6\n",
       " 9  10  1  1\n",
       " 7   4  6  6"
      ]
     },
     "execution_count": 54,
     "metadata": {},
     "output_type": "execute_result"
    }
   ],
   "source": [
    "A = rand(1:10, 3, 4)"
   ]
  },
  {
   "cell_type": "code",
   "execution_count": 64,
   "id": "ec33399d-49b7-4897-bae8-e7b2d74d0696",
   "metadata": {},
   "outputs": [
    {
     "data": {
      "text/plain": [
       "4-element Vector{Int64}:\n",
       "  1\n",
       "  2\n",
       " -1\n",
       " -2"
      ]
     },
     "execution_count": 64,
     "metadata": {},
     "output_type": "execute_result"
    }
   ],
   "source": [
    "B = [1, 2, -1, -2]"
   ]
  },
  {
   "cell_type": "code",
   "execution_count": 65,
   "id": "cfb99af4-a008-4e80-bd6c-accec25bb5a7",
   "metadata": {},
   "outputs": [
    {
     "data": {
      "text/plain": [
       "3-element Vector{Int64}:\n",
       "  4\n",
       " 26\n",
       " -3"
      ]
     },
     "execution_count": 65,
     "metadata": {},
     "output_type": "execute_result"
    }
   ],
   "source": [
    "A * B"
   ]
  },
  {
   "cell_type": "markdown",
   "id": "b2ee3eb2-a4e1-4a12-baad-f187139f2bb4",
   "metadata": {},
   "source": [
    "Checks out. :)"
   ]
  }
 ],
 "metadata": {
  "kernelspec": {
   "display_name": "Julia 1.6.1",
   "language": "julia",
   "name": "julia-1.6"
  },
  "language_info": {
   "file_extension": ".jl",
   "mimetype": "application/julia",
   "name": "julia",
   "version": "1.6.1"
  }
 },
 "nbformat": 4,
 "nbformat_minor": 5
}
